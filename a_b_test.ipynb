{
 "cells": [
  {
   "cell_type": "markdown",
   "metadata": {},
   "source": [
    "# A/B-тестирование."
   ]
  },
  {
   "cell_type": "markdown",
   "metadata": {},
   "source": [
    "**Цель исследования.**\n",
    "\n",
    "- Нужно приоритизировать гипотезы из списка;\n",
    "- Запустить A/B-тест и проанализировать его результаты;\n",
    "- Рассмотрим стабильность графиков таких кумулятивных метрик, как:\n",
    "  - выручка по группам; \n",
    "  - средний чек по группам; \n",
    "  - изменение кумулятивного среднего чека группы B к группе A; \n",
    "  - относительного изменения кумулятивного среднего количества заказов на посетителя между группами;\n",
    "  - график относительного изменения кумулятивного среднего количества заказов на посетителя группы B к группе A;\n",
    "- Посмотрим на точечный график количества заказов по пользователям и стоимостей заказов;\n",
    "- Оценим процент данных, выступающих в качестве выбросов;\n",
    "- Используем непараметрический тест Уилкоксона-Манна-Уитни для анализа A/B теста таких метрик, как:\n",
    "  - статистическая значимость различий в среднем количестве заказов на посетителя между группами по «сырым» данным;\n",
    "  - статистическая значимость различий в среднем чеке заказа между группами по «сырым» данным;\n",
    "  - статистическая значимость различий в среднем количестве заказов на посетителя между группами по «очищенным» данным;\n",
    "  - статистическая значимость различий в среднем чеке заказа между группами по «очищенным» данным."
   ]
  },
  {
   "cell_type": "markdown",
   "metadata": {},
   "source": [
    "**Имеющиеся данные.**\n",
    "\n",
    "В нашем распоряжении 3 датасета. Файл /datasets/hypothesis.csv, содержащий список гипотез; /datasets/orders.csv, хранящий информацию о заказах пользователей в интернет-магазине; /datasets/visitors.csv, содержащий информацию о посещениях пользователями интернет-магазина\n",
    "\n",
    "**Данные для первой части.**\n",
    "\n",
    "**Структура /datasets/hypothesis.csv:**\n",
    "\n",
    "-  Hypothesis — краткое описание гипотезы;\n",
    "-  Reach — охват пользователей по 10-балльной шкале;\n",
    "-  Impact — влияние на пользователей по 10-балльной шкале;\n",
    "-  Confidence — уверенность в гипотезе по 10-балльной шкале;\n",
    "-  Efforts — затраты ресурсов на проверку гипотезы по 10-балльной шкале. Чем больше значение Efforts, тем дороже проверка        гипотезы.\n",
    "    \n",
    "**Данные для второй части.**\n",
    "\n",
    "**Структура /datasets/orders.csv:**\n",
    "\n",
    "-   transactionId — идентификатор заказа;\n",
    "-   visitorId — идентификатор пользователя, совершившего заказ;\n",
    "-   date — дата, когда был совершён заказ;\n",
    "-   revenue — выручка заказа;\n",
    "-   group — группа A/B-теста, в которую попал заказ.\n",
    "        \n",
    "**Структура /datasets/visitors.csv:**\n",
    "\n",
    "-   date — дата;\n",
    "-   group — группа A/B-теста;\n",
    "-   visitors — количество пользователей в указанную дату в указанной группе A/B-теста."
   ]
  },
  {
   "cell_type": "markdown",
   "metadata": {},
   "source": [
    "**План работы:**\n",
    "\n",
    "-   1. Обзор и предобработка данных;\n",
    "-   2. Приоритизация гипотез;\n",
    "-   3. Анализ А/В-теста;\n",
    "-   4. Вывод."
   ]
  },
  {
   "cell_type": "markdown",
   "metadata": {},
   "source": [
    "### Обзор и предобработка данных."
   ]
  },
  {
   "cell_type": "code",
   "execution_count": 1,
   "metadata": {},
   "outputs": [],
   "source": [
    "import pandas as pd\n",
    "import numpy as np\n",
    "import matplotlib.pyplot as plt\n",
    "import seaborn as sns\n",
    "import math\n",
    "import datetime as dt\n",
    "import scipy.stats as stats\n",
    "from scipy import stats as st\n",
    "import warnings"
   ]
  },
  {
   "cell_type": "code",
   "execution_count": 2,
   "metadata": {},
   "outputs": [],
   "source": [
    "# игнорируем предупреждения\n",
    "warnings.filterwarnings(action='ignore')\n",
    "\n",
    "# выставляем ограничение на показ знаков после запятой\n",
    "pd.options.display.float_format = '{:,.3f}'.format\n",
    "\n",
    "# снимаем ограничение на количество столбцов\n",
    "pd.set_option('display.max_columns', None)\n",
    "\n",
    "# снимаем ограничение на ширину столбцов\n",
    "pd.set_option('display.max_colwidth', None)\n",
    "\n",
    "#ставим ограничение на показ максимума строк, равное 100\n",
    "pd.options.display.max_rows = 100\n",
    "\n",
    "# задаем размер графика\n",
    "sns.set(rc={'figure.figsize':(9,5)})"
   ]
  },
  {
   "cell_type": "code",
   "execution_count": 3,
   "metadata": {},
   "outputs": [],
   "source": [
    "hypothesis = pd.read_csv('/datasets/hypothesis.csv')\n",
    "orders = pd.read_csv('/datasets/orders.csv')\n",
    "visitors  = pd.read_csv('/datasets/visitors.csv')"
   ]
  },
  {
   "cell_type": "markdown",
   "metadata": {},
   "source": [
    "**Используем функцию для подробного изучения датасетов, заодно приведём к общему виду столбцы, подсчитаем дубликаты и поменяем тип данных.**"
   ]
  },
  {
   "cell_type": "code",
   "execution_count": 4,
   "metadata": {},
   "outputs": [],
   "source": [
    "def inspect(df):\n",
    "    display(df.head()) \n",
    "    df.info() \n",
    "    print ('Количество дубликатов -', df.duplicated().sum())\n",
    "    numeric_columns=df.describe().columns\n",
    "    display(df.describe())\n",
    "    display()\n",
    "    df.columns = [x.lower().replace(' ', '_') for x in df.columns.values]\n",
    "    for column_name in df.columns:\n",
    "        if column_name not in numeric_columns:\n",
    "            if 'date' in column_name or 'dt' in column_name:\n",
    "                df[column_name] = pd.to_datetime(df[column_name])\n",
    "            else:\n",
    "                display(df[column_name].value_counts())\n",
    "                print(50*'*')\n",
    "    return df"
   ]
  },
  {
   "cell_type": "code",
   "execution_count": 5,
   "metadata": {},
   "outputs": [
    {
     "data": {
      "text/html": [
       "<div>\n",
       "<style scoped>\n",
       "    .dataframe tbody tr th:only-of-type {\n",
       "        vertical-align: middle;\n",
       "    }\n",
       "\n",
       "    .dataframe tbody tr th {\n",
       "        vertical-align: top;\n",
       "    }\n",
       "\n",
       "    .dataframe thead th {\n",
       "        text-align: right;\n",
       "    }\n",
       "</style>\n",
       "<table border=\"1\" class=\"dataframe\">\n",
       "  <thead>\n",
       "    <tr style=\"text-align: right;\">\n",
       "      <th></th>\n",
       "      <th>Hypothesis</th>\n",
       "      <th>Reach</th>\n",
       "      <th>Impact</th>\n",
       "      <th>Confidence</th>\n",
       "      <th>Efforts</th>\n",
       "    </tr>\n",
       "  </thead>\n",
       "  <tbody>\n",
       "    <tr>\n",
       "      <th>0</th>\n",
       "      <td>Добавить два новых канала привлечения трафика, что позволит привлекать на 30% больше пользователей</td>\n",
       "      <td>3</td>\n",
       "      <td>10</td>\n",
       "      <td>8</td>\n",
       "      <td>6</td>\n",
       "    </tr>\n",
       "    <tr>\n",
       "      <th>1</th>\n",
       "      <td>Запустить собственную службу доставки, что сократит срок доставки заказов</td>\n",
       "      <td>2</td>\n",
       "      <td>5</td>\n",
       "      <td>4</td>\n",
       "      <td>10</td>\n",
       "    </tr>\n",
       "    <tr>\n",
       "      <th>2</th>\n",
       "      <td>Добавить блоки рекомендаций товаров на сайт интернет магазина, чтобы повысить конверсию и средний чек заказа</td>\n",
       "      <td>8</td>\n",
       "      <td>3</td>\n",
       "      <td>7</td>\n",
       "      <td>3</td>\n",
       "    </tr>\n",
       "    <tr>\n",
       "      <th>3</th>\n",
       "      <td>Изменить структура категорий, что увеличит конверсию, т.к. пользователи быстрее найдут нужный товар</td>\n",
       "      <td>8</td>\n",
       "      <td>3</td>\n",
       "      <td>3</td>\n",
       "      <td>8</td>\n",
       "    </tr>\n",
       "    <tr>\n",
       "      <th>4</th>\n",
       "      <td>Изменить цвет фона главной страницы, чтобы увеличить вовлеченность пользователей</td>\n",
       "      <td>3</td>\n",
       "      <td>1</td>\n",
       "      <td>1</td>\n",
       "      <td>1</td>\n",
       "    </tr>\n",
       "  </tbody>\n",
       "</table>\n",
       "</div>"
      ],
      "text/plain": [
       "                                                                                                     Hypothesis  \\\n",
       "0            Добавить два новых канала привлечения трафика, что позволит привлекать на 30% больше пользователей   \n",
       "1                                     Запустить собственную службу доставки, что сократит срок доставки заказов   \n",
       "2  Добавить блоки рекомендаций товаров на сайт интернет магазина, чтобы повысить конверсию и средний чек заказа   \n",
       "3           Изменить структура категорий, что увеличит конверсию, т.к. пользователи быстрее найдут нужный товар   \n",
       "4                              Изменить цвет фона главной страницы, чтобы увеличить вовлеченность пользователей   \n",
       "\n",
       "   Reach  Impact  Confidence  Efforts  \n",
       "0      3      10           8        6  \n",
       "1      2       5           4       10  \n",
       "2      8       3           7        3  \n",
       "3      8       3           3        8  \n",
       "4      3       1           1        1  "
      ]
     },
     "metadata": {},
     "output_type": "display_data"
    },
    {
     "name": "stdout",
     "output_type": "stream",
     "text": [
      "<class 'pandas.core.frame.DataFrame'>\n",
      "RangeIndex: 9 entries, 0 to 8\n",
      "Data columns (total 5 columns):\n",
      " #   Column      Non-Null Count  Dtype \n",
      "---  ------      --------------  ----- \n",
      " 0   Hypothesis  9 non-null      object\n",
      " 1   Reach       9 non-null      int64 \n",
      " 2   Impact      9 non-null      int64 \n",
      " 3   Confidence  9 non-null      int64 \n",
      " 4   Efforts     9 non-null      int64 \n",
      "dtypes: int64(4), object(1)\n",
      "memory usage: 488.0+ bytes\n",
      "Количество дубликатов - 0\n"
     ]
    },
    {
     "data": {
      "text/html": [
       "<div>\n",
       "<style scoped>\n",
       "    .dataframe tbody tr th:only-of-type {\n",
       "        vertical-align: middle;\n",
       "    }\n",
       "\n",
       "    .dataframe tbody tr th {\n",
       "        vertical-align: top;\n",
       "    }\n",
       "\n",
       "    .dataframe thead th {\n",
       "        text-align: right;\n",
       "    }\n",
       "</style>\n",
       "<table border=\"1\" class=\"dataframe\">\n",
       "  <thead>\n",
       "    <tr style=\"text-align: right;\">\n",
       "      <th></th>\n",
       "      <th>Reach</th>\n",
       "      <th>Impact</th>\n",
       "      <th>Confidence</th>\n",
       "      <th>Efforts</th>\n",
       "    </tr>\n",
       "  </thead>\n",
       "  <tbody>\n",
       "    <tr>\n",
       "      <th>count</th>\n",
       "      <td>9.000</td>\n",
       "      <td>9.000</td>\n",
       "      <td>9.000</td>\n",
       "      <td>9.000</td>\n",
       "    </tr>\n",
       "    <tr>\n",
       "      <th>mean</th>\n",
       "      <td>4.778</td>\n",
       "      <td>4.778</td>\n",
       "      <td>5.556</td>\n",
       "      <td>4.889</td>\n",
       "    </tr>\n",
       "    <tr>\n",
       "      <th>std</th>\n",
       "      <td>3.153</td>\n",
       "      <td>3.193</td>\n",
       "      <td>3.046</td>\n",
       "      <td>2.804</td>\n",
       "    </tr>\n",
       "    <tr>\n",
       "      <th>min</th>\n",
       "      <td>1.000</td>\n",
       "      <td>1.000</td>\n",
       "      <td>1.000</td>\n",
       "      <td>1.000</td>\n",
       "    </tr>\n",
       "    <tr>\n",
       "      <th>25%</th>\n",
       "      <td>3.000</td>\n",
       "      <td>3.000</td>\n",
       "      <td>3.000</td>\n",
       "      <td>3.000</td>\n",
       "    </tr>\n",
       "    <tr>\n",
       "      <th>50%</th>\n",
       "      <td>3.000</td>\n",
       "      <td>3.000</td>\n",
       "      <td>7.000</td>\n",
       "      <td>5.000</td>\n",
       "    </tr>\n",
       "    <tr>\n",
       "      <th>75%</th>\n",
       "      <td>8.000</td>\n",
       "      <td>7.000</td>\n",
       "      <td>8.000</td>\n",
       "      <td>6.000</td>\n",
       "    </tr>\n",
       "    <tr>\n",
       "      <th>max</th>\n",
       "      <td>10.000</td>\n",
       "      <td>10.000</td>\n",
       "      <td>9.000</td>\n",
       "      <td>10.000</td>\n",
       "    </tr>\n",
       "  </tbody>\n",
       "</table>\n",
       "</div>"
      ],
      "text/plain": [
       "       Reach  Impact  Confidence  Efforts\n",
       "count  9.000   9.000       9.000    9.000\n",
       "mean   4.778   4.778       5.556    4.889\n",
       "std    3.153   3.193       3.046    2.804\n",
       "min    1.000   1.000       1.000    1.000\n",
       "25%    3.000   3.000       3.000    3.000\n",
       "50%    3.000   3.000       7.000    5.000\n",
       "75%    8.000   7.000       8.000    6.000\n",
       "max   10.000  10.000       9.000   10.000"
      ]
     },
     "metadata": {},
     "output_type": "display_data"
    },
    {
     "data": {
      "text/plain": [
       "Добавить блоки рекомендаций товаров на сайт интернет магазина, чтобы повысить конверсию и средний чек заказа    1\n",
       "Добавить два новых канала привлечения трафика, что позволит привлекать на 30% больше пользователей              1\n",
       "Добавить страницу отзывов клиентов о магазине, что позволит увеличить количество заказов                        1\n",
       "Запустить акцию, дающую скидку на товар в день рождения                                                         1\n",
       "Запустить собственную службу доставки, что сократит срок доставки заказов                                       1\n",
       "Изменить цвет фона главной страницы, чтобы увеличить вовлеченность пользователей                                1\n",
       "Добавить форму подписки на все основные страницы, чтобы собрать базу клиентов для email-рассылок                1\n",
       "Показать на главной странице баннеры с актуальными акциями и распродажами, чтобы увеличить конверсию            1\n",
       "Изменить структура категорий, что увеличит конверсию, т.к. пользователи быстрее найдут нужный товар             1\n",
       "Name: hypothesis, dtype: int64"
      ]
     },
     "metadata": {},
     "output_type": "display_data"
    },
    {
     "name": "stdout",
     "output_type": "stream",
     "text": [
      "**************************************************\n"
     ]
    },
    {
     "data": {
      "text/plain": [
       "3     3\n",
       "8     2\n",
       "1     1\n",
       "2     1\n",
       "5     1\n",
       "10    1\n",
       "Name: reach, dtype: int64"
      ]
     },
     "metadata": {},
     "output_type": "display_data"
    },
    {
     "name": "stdout",
     "output_type": "stream",
     "text": [
      "**************************************************\n"
     ]
    },
    {
     "data": {
      "text/plain": [
       "3     3\n",
       "1     1\n",
       "2     1\n",
       "5     1\n",
       "7     1\n",
       "9     1\n",
       "10    1\n",
       "Name: impact, dtype: int64"
      ]
     },
     "metadata": {},
     "output_type": "display_data"
    },
    {
     "name": "stdout",
     "output_type": "stream",
     "text": [
      "**************************************************\n"
     ]
    },
    {
     "data": {
      "text/plain": [
       "8    3\n",
       "1    1\n",
       "2    1\n",
       "3    1\n",
       "4    1\n",
       "7    1\n",
       "9    1\n",
       "Name: confidence, dtype: int64"
      ]
     },
     "metadata": {},
     "output_type": "display_data"
    },
    {
     "name": "stdout",
     "output_type": "stream",
     "text": [
      "**************************************************\n"
     ]
    },
    {
     "data": {
      "text/plain": [
       "3     3\n",
       "5     2\n",
       "1     1\n",
       "6     1\n",
       "8     1\n",
       "10    1\n",
       "Name: efforts, dtype: int64"
      ]
     },
     "metadata": {},
     "output_type": "display_data"
    },
    {
     "name": "stdout",
     "output_type": "stream",
     "text": [
      "**************************************************\n"
     ]
    }
   ],
   "source": [
    "hypothesis = inspect(hypothesis)"
   ]
  },
  {
   "cell_type": "code",
   "execution_count": 6,
   "metadata": {},
   "outputs": [
    {
     "data": {
      "text/html": [
       "<div>\n",
       "<style scoped>\n",
       "    .dataframe tbody tr th:only-of-type {\n",
       "        vertical-align: middle;\n",
       "    }\n",
       "\n",
       "    .dataframe tbody tr th {\n",
       "        vertical-align: top;\n",
       "    }\n",
       "\n",
       "    .dataframe thead th {\n",
       "        text-align: right;\n",
       "    }\n",
       "</style>\n",
       "<table border=\"1\" class=\"dataframe\">\n",
       "  <thead>\n",
       "    <tr style=\"text-align: right;\">\n",
       "      <th></th>\n",
       "      <th>transactionId</th>\n",
       "      <th>visitorId</th>\n",
       "      <th>date</th>\n",
       "      <th>revenue</th>\n",
       "      <th>group</th>\n",
       "    </tr>\n",
       "  </thead>\n",
       "  <tbody>\n",
       "    <tr>\n",
       "      <th>0</th>\n",
       "      <td>3667963787</td>\n",
       "      <td>3312258926</td>\n",
       "      <td>2019-08-15</td>\n",
       "      <td>1650</td>\n",
       "      <td>B</td>\n",
       "    </tr>\n",
       "    <tr>\n",
       "      <th>1</th>\n",
       "      <td>2804400009</td>\n",
       "      <td>3642806036</td>\n",
       "      <td>2019-08-15</td>\n",
       "      <td>730</td>\n",
       "      <td>B</td>\n",
       "    </tr>\n",
       "    <tr>\n",
       "      <th>2</th>\n",
       "      <td>2961555356</td>\n",
       "      <td>4069496402</td>\n",
       "      <td>2019-08-15</td>\n",
       "      <td>400</td>\n",
       "      <td>A</td>\n",
       "    </tr>\n",
       "    <tr>\n",
       "      <th>3</th>\n",
       "      <td>3797467345</td>\n",
       "      <td>1196621759</td>\n",
       "      <td>2019-08-15</td>\n",
       "      <td>9759</td>\n",
       "      <td>B</td>\n",
       "    </tr>\n",
       "    <tr>\n",
       "      <th>4</th>\n",
       "      <td>2282983706</td>\n",
       "      <td>2322279887</td>\n",
       "      <td>2019-08-15</td>\n",
       "      <td>2308</td>\n",
       "      <td>B</td>\n",
       "    </tr>\n",
       "  </tbody>\n",
       "</table>\n",
       "</div>"
      ],
      "text/plain": [
       "   transactionId   visitorId        date  revenue group\n",
       "0     3667963787  3312258926  2019-08-15     1650     B\n",
       "1     2804400009  3642806036  2019-08-15      730     B\n",
       "2     2961555356  4069496402  2019-08-15      400     A\n",
       "3     3797467345  1196621759  2019-08-15     9759     B\n",
       "4     2282983706  2322279887  2019-08-15     2308     B"
      ]
     },
     "metadata": {},
     "output_type": "display_data"
    },
    {
     "name": "stdout",
     "output_type": "stream",
     "text": [
      "<class 'pandas.core.frame.DataFrame'>\n",
      "RangeIndex: 1197 entries, 0 to 1196\n",
      "Data columns (total 5 columns):\n",
      " #   Column         Non-Null Count  Dtype \n",
      "---  ------         --------------  ----- \n",
      " 0   transactionId  1197 non-null   int64 \n",
      " 1   visitorId      1197 non-null   int64 \n",
      " 2   date           1197 non-null   object\n",
      " 3   revenue        1197 non-null   int64 \n",
      " 4   group          1197 non-null   object\n",
      "dtypes: int64(3), object(2)\n",
      "memory usage: 46.9+ KB\n",
      "Количество дубликатов - 0\n"
     ]
    },
    {
     "data": {
      "text/html": [
       "<div>\n",
       "<style scoped>\n",
       "    .dataframe tbody tr th:only-of-type {\n",
       "        vertical-align: middle;\n",
       "    }\n",
       "\n",
       "    .dataframe tbody tr th {\n",
       "        vertical-align: top;\n",
       "    }\n",
       "\n",
       "    .dataframe thead th {\n",
       "        text-align: right;\n",
       "    }\n",
       "</style>\n",
       "<table border=\"1\" class=\"dataframe\">\n",
       "  <thead>\n",
       "    <tr style=\"text-align: right;\">\n",
       "      <th></th>\n",
       "      <th>transactionId</th>\n",
       "      <th>visitorId</th>\n",
       "      <th>revenue</th>\n",
       "    </tr>\n",
       "  </thead>\n",
       "  <tbody>\n",
       "    <tr>\n",
       "      <th>count</th>\n",
       "      <td>1,197.000</td>\n",
       "      <td>1,197.000</td>\n",
       "      <td>1,197.000</td>\n",
       "    </tr>\n",
       "    <tr>\n",
       "      <th>mean</th>\n",
       "      <td>2,155,621,385.530</td>\n",
       "      <td>2,165,960,143.099</td>\n",
       "      <td>8,348.006</td>\n",
       "    </tr>\n",
       "    <tr>\n",
       "      <th>std</th>\n",
       "      <td>1,229,084,904.760</td>\n",
       "      <td>1,236,014,192.147</td>\n",
       "      <td>39,191.132</td>\n",
       "    </tr>\n",
       "    <tr>\n",
       "      <th>min</th>\n",
       "      <td>1,062,393.000</td>\n",
       "      <td>5,114,589.000</td>\n",
       "      <td>50.000</td>\n",
       "    </tr>\n",
       "    <tr>\n",
       "      <th>25%</th>\n",
       "      <td>1,166,775,572.000</td>\n",
       "      <td>1,111,826,046.000</td>\n",
       "      <td>1,220.000</td>\n",
       "    </tr>\n",
       "    <tr>\n",
       "      <th>50%</th>\n",
       "      <td>2,145,193,898.000</td>\n",
       "      <td>2,217,984,702.000</td>\n",
       "      <td>2,978.000</td>\n",
       "    </tr>\n",
       "    <tr>\n",
       "      <th>75%</th>\n",
       "      <td>3,237,740,112.000</td>\n",
       "      <td>3,177,606,451.000</td>\n",
       "      <td>8,290.000</td>\n",
       "    </tr>\n",
       "    <tr>\n",
       "      <th>max</th>\n",
       "      <td>4,293,855,558.000</td>\n",
       "      <td>4,283,872,382.000</td>\n",
       "      <td>1,294,500.000</td>\n",
       "    </tr>\n",
       "  </tbody>\n",
       "</table>\n",
       "</div>"
      ],
      "text/plain": [
       "          transactionId         visitorId       revenue\n",
       "count         1,197.000         1,197.000     1,197.000\n",
       "mean  2,155,621,385.530 2,165,960,143.099     8,348.006\n",
       "std   1,229,084,904.760 1,236,014,192.147    39,191.132\n",
       "min       1,062,393.000     5,114,589.000        50.000\n",
       "25%   1,166,775,572.000 1,111,826,046.000     1,220.000\n",
       "50%   2,145,193,898.000 2,217,984,702.000     2,978.000\n",
       "75%   3,237,740,112.000 3,177,606,451.000     8,290.000\n",
       "max   4,293,855,558.000 4,283,872,382.000 1,294,500.000"
      ]
     },
     "metadata": {},
     "output_type": "display_data"
    },
    {
     "data": {
      "text/plain": [
       "1658608862    1\n",
       "2211880073    1\n",
       "3913205113    1\n",
       "437656952     1\n",
       "3592105335    1\n",
       "             ..\n",
       "2872509092    1\n",
       "2013919907    1\n",
       "3154167297    1\n",
       "2960804513    1\n",
       "4281129020    1\n",
       "Name: transactionid, Length: 1197, dtype: int64"
      ]
     },
     "metadata": {},
     "output_type": "display_data"
    },
    {
     "name": "stdout",
     "output_type": "stream",
     "text": [
      "**************************************************\n"
     ]
    },
    {
     "data": {
      "text/plain": [
       "4256040402    11\n",
       "2458001652    11\n",
       "2378935119     9\n",
       "2038680547     8\n",
       "199603092      5\n",
       "              ..\n",
       "2406916810     1\n",
       "1255412427     1\n",
       "3866069709     1\n",
       "54447517       1\n",
       "3013339133     1\n",
       "Name: visitorid, Length: 1031, dtype: int64"
      ]
     },
     "metadata": {},
     "output_type": "display_data"
    },
    {
     "name": "stdout",
     "output_type": "stream",
     "text": [
      "**************************************************\n"
     ]
    },
    {
     "data": {
      "text/plain": [
       "B    640\n",
       "A    557\n",
       "Name: group, dtype: int64"
      ]
     },
     "metadata": {},
     "output_type": "display_data"
    },
    {
     "name": "stdout",
     "output_type": "stream",
     "text": [
      "**************************************************\n"
     ]
    }
   ],
   "source": [
    "orders = inspect(orders)"
   ]
  },
  {
   "cell_type": "code",
   "execution_count": 7,
   "metadata": {},
   "outputs": [],
   "source": [
    "orders = orders.rename (columns= {'transactionid': 'transaction_id', 'visitorid': 'visitor_id'})"
   ]
  },
  {
   "cell_type": "code",
   "execution_count": 8,
   "metadata": {},
   "outputs": [
    {
     "data": {
      "text/html": [
       "<div>\n",
       "<style scoped>\n",
       "    .dataframe tbody tr th:only-of-type {\n",
       "        vertical-align: middle;\n",
       "    }\n",
       "\n",
       "    .dataframe tbody tr th {\n",
       "        vertical-align: top;\n",
       "    }\n",
       "\n",
       "    .dataframe thead th {\n",
       "        text-align: right;\n",
       "    }\n",
       "</style>\n",
       "<table border=\"1\" class=\"dataframe\">\n",
       "  <thead>\n",
       "    <tr style=\"text-align: right;\">\n",
       "      <th></th>\n",
       "      <th>date</th>\n",
       "      <th>group</th>\n",
       "      <th>visitors</th>\n",
       "    </tr>\n",
       "  </thead>\n",
       "  <tbody>\n",
       "    <tr>\n",
       "      <th>0</th>\n",
       "      <td>2019-08-01</td>\n",
       "      <td>A</td>\n",
       "      <td>719</td>\n",
       "    </tr>\n",
       "    <tr>\n",
       "      <th>1</th>\n",
       "      <td>2019-08-02</td>\n",
       "      <td>A</td>\n",
       "      <td>619</td>\n",
       "    </tr>\n",
       "    <tr>\n",
       "      <th>2</th>\n",
       "      <td>2019-08-03</td>\n",
       "      <td>A</td>\n",
       "      <td>507</td>\n",
       "    </tr>\n",
       "    <tr>\n",
       "      <th>3</th>\n",
       "      <td>2019-08-04</td>\n",
       "      <td>A</td>\n",
       "      <td>717</td>\n",
       "    </tr>\n",
       "    <tr>\n",
       "      <th>4</th>\n",
       "      <td>2019-08-05</td>\n",
       "      <td>A</td>\n",
       "      <td>756</td>\n",
       "    </tr>\n",
       "  </tbody>\n",
       "</table>\n",
       "</div>"
      ],
      "text/plain": [
       "         date group  visitors\n",
       "0  2019-08-01     A       719\n",
       "1  2019-08-02     A       619\n",
       "2  2019-08-03     A       507\n",
       "3  2019-08-04     A       717\n",
       "4  2019-08-05     A       756"
      ]
     },
     "metadata": {},
     "output_type": "display_data"
    },
    {
     "name": "stdout",
     "output_type": "stream",
     "text": [
      "<class 'pandas.core.frame.DataFrame'>\n",
      "RangeIndex: 62 entries, 0 to 61\n",
      "Data columns (total 3 columns):\n",
      " #   Column    Non-Null Count  Dtype \n",
      "---  ------    --------------  ----- \n",
      " 0   date      62 non-null     object\n",
      " 1   group     62 non-null     object\n",
      " 2   visitors  62 non-null     int64 \n",
      "dtypes: int64(1), object(2)\n",
      "memory usage: 1.6+ KB\n",
      "Количество дубликатов - 0\n"
     ]
    },
    {
     "data": {
      "text/html": [
       "<div>\n",
       "<style scoped>\n",
       "    .dataframe tbody tr th:only-of-type {\n",
       "        vertical-align: middle;\n",
       "    }\n",
       "\n",
       "    .dataframe tbody tr th {\n",
       "        vertical-align: top;\n",
       "    }\n",
       "\n",
       "    .dataframe thead th {\n",
       "        text-align: right;\n",
       "    }\n",
       "</style>\n",
       "<table border=\"1\" class=\"dataframe\">\n",
       "  <thead>\n",
       "    <tr style=\"text-align: right;\">\n",
       "      <th></th>\n",
       "      <th>visitors</th>\n",
       "    </tr>\n",
       "  </thead>\n",
       "  <tbody>\n",
       "    <tr>\n",
       "      <th>count</th>\n",
       "      <td>62.000</td>\n",
       "    </tr>\n",
       "    <tr>\n",
       "      <th>mean</th>\n",
       "      <td>607.290</td>\n",
       "    </tr>\n",
       "    <tr>\n",
       "      <th>std</th>\n",
       "      <td>114.401</td>\n",
       "    </tr>\n",
       "    <tr>\n",
       "      <th>min</th>\n",
       "      <td>361.000</td>\n",
       "    </tr>\n",
       "    <tr>\n",
       "      <th>25%</th>\n",
       "      <td>534.000</td>\n",
       "    </tr>\n",
       "    <tr>\n",
       "      <th>50%</th>\n",
       "      <td>624.500</td>\n",
       "    </tr>\n",
       "    <tr>\n",
       "      <th>75%</th>\n",
       "      <td>710.500</td>\n",
       "    </tr>\n",
       "    <tr>\n",
       "      <th>max</th>\n",
       "      <td>770.000</td>\n",
       "    </tr>\n",
       "  </tbody>\n",
       "</table>\n",
       "</div>"
      ],
      "text/plain": [
       "       visitors\n",
       "count    62.000\n",
       "mean    607.290\n",
       "std     114.401\n",
       "min     361.000\n",
       "25%     534.000\n",
       "50%     624.500\n",
       "75%     710.500\n",
       "max     770.000"
      ]
     },
     "metadata": {},
     "output_type": "display_data"
    },
    {
     "data": {
      "text/plain": [
       "B    31\n",
       "A    31\n",
       "Name: group, dtype: int64"
      ]
     },
     "metadata": {},
     "output_type": "display_data"
    },
    {
     "name": "stdout",
     "output_type": "stream",
     "text": [
      "**************************************************\n"
     ]
    }
   ],
   "source": [
    "visitors = inspect(visitors)"
   ]
  },
  {
   "cell_type": "code",
   "execution_count": 9,
   "metadata": {},
   "outputs": [
    {
     "name": "stdout",
     "output_type": "stream",
     "text": [
      "2019-08-01 00:00:00\n",
      "2019-08-31 00:00:00\n"
     ]
    }
   ],
   "source": [
    "print(orders['date'].min())\n",
    "print(orders['date'].max())"
   ]
  },
  {
   "cell_type": "code",
   "execution_count": 10,
   "metadata": {},
   "outputs": [
    {
     "name": "stdout",
     "output_type": "stream",
     "text": [
      "4084803\n",
      "5907760\n",
      "Процент выручки группы B от общего количества: 0.7231389126966465\n"
     ]
    }
   ],
   "source": [
    "print(orders.loc[orders['group']=='A', 'revenue'].sum())\n",
    "print(orders.loc[orders['group']=='B', 'revenue'].sum())\n",
    "print('Процент выручки группы B от общего количества:',orders.loc[orders['group']=='B', 'revenue'].sum()/(orders.loc[orders['group']=='A', 'revenue'].sum()+orders.loc[orders['group']=='A', 'revenue'].sum()))"
   ]
  },
  {
   "cell_type": "code",
   "execution_count": 11,
   "metadata": {},
   "outputs": [
    {
     "data": {
      "text/plain": [
       "4256040402    11\n",
       "2458001652    11\n",
       "2378935119     9\n",
       "2038680547     8\n",
       "199603092      5\n",
       "              ..\n",
       "2406916810     1\n",
       "1255412427     1\n",
       "3866069709     1\n",
       "54447517       1\n",
       "3013339133     1\n",
       "Name: visitor_id, Length: 1031, dtype: int64"
      ]
     },
     "execution_count": 11,
     "metadata": {},
     "output_type": "execute_result"
    }
   ],
   "source": [
    "orders['visitor_id'].value_counts()"
   ]
  },
  {
   "cell_type": "markdown",
   "metadata": {},
   "source": [
    "**Для того чтобы рассчитать вероятность для одного пользователя попасть в обе группы, мы можем воспользоваться формулой вероятности пересечения событий.**\n",
    "\n",
    "**Предположим, что событие A - попадание пользователя в первую группу, а событие B - попадание пользователя во вторую группу. Вероятность пересечения этих событий можно вычислим по формуле:**\n",
    "\n",
    "**P(A ∩ B) = P(A) * P(B|A)**\n",
    "\n",
    "**,где P(A) - вероятность попадания одного пользователя в первую группу, P(B|A) - условная вероятность попадания пользователя во вторую группу при условии, что он уже попал в первую.**\n",
    "\n",
    "**Мы знаем, что вероятность попадания пользователя в первую группу равна 32/1031, так как есть 32 места из 1097 посетителей. Для второй группы вероятность также равна 32/1031.**\n",
    "\n",
    "**Теперь можем рассчитать вероятность пересечения событий:**"
   ]
  },
  {
   "cell_type": "code",
   "execution_count": 12,
   "metadata": {},
   "outputs": [
    {
     "name": "stdout",
     "output_type": "stream",
     "text": [
      "Вероятность случайного пользователя из выборки попасть в обе группы равна: 0.0009633467267378577\n"
     ]
    }
   ],
   "source": [
    "print('Вероятность случайного пользователя из выборки попасть в обе группы равна:', (32/1031) * (32/1031))"
   ]
  },
  {
   "cell_type": "markdown",
   "metadata": {},
   "source": [
    "**Вывод.**\n",
    "\n",
    "**Мы ознакомились с датафреймами.**\n",
    "\n",
    "**Имеем 2 исследуемых группы пользователей по 31 человеку в каждой, тест проводился 1 календарный месяц с 1 августа 2019 года по  31 августа того же года. Пользователи из группы B совершили 640 заказов за месяц, из группы A - 557 заказов (на 6.5% меньше). Среднее суточное количество посещений сайта пользователями обоих групп равно 607. На пользователей из группы B пришлось 72,3% выручки за исследуемый период.**\n",
    "\n",
    "**Пропуски и дубликаты не обнаружены, но кое-что требовало правки: тип данных в столбцах не везде корректный (столбцы с датами имели тип object). Изменили visitors['date'] и orders['date'] на 'datetime', также привели названия столбцов к общему виду.**"
   ]
  },
  {
   "cell_type": "markdown",
   "metadata": {},
   "source": [
    "### Часть 1. Приоритизация гипотез."
   ]
  },
  {
   "cell_type": "markdown",
   "metadata": {},
   "source": [
    "#### Применим фреймворк ICE для приоритизации гипотез. Отсортируем их по убыванию приоритета."
   ]
  },
  {
   "cell_type": "code",
   "execution_count": 13,
   "metadata": {},
   "outputs": [
    {
     "data": {
      "text/html": [
       "<div>\n",
       "<style scoped>\n",
       "    .dataframe tbody tr th:only-of-type {\n",
       "        vertical-align: middle;\n",
       "    }\n",
       "\n",
       "    .dataframe tbody tr th {\n",
       "        vertical-align: top;\n",
       "    }\n",
       "\n",
       "    .dataframe thead th {\n",
       "        text-align: right;\n",
       "    }\n",
       "</style>\n",
       "<table border=\"1\" class=\"dataframe\">\n",
       "  <thead>\n",
       "    <tr style=\"text-align: right;\">\n",
       "      <th></th>\n",
       "      <th>hypothesis</th>\n",
       "      <th>ice</th>\n",
       "    </tr>\n",
       "  </thead>\n",
       "  <tbody>\n",
       "    <tr>\n",
       "      <th>8</th>\n",
       "      <td>Запустить акцию, дающую скидку на товар в день рождения</td>\n",
       "      <td>16.200</td>\n",
       "    </tr>\n",
       "    <tr>\n",
       "      <th>0</th>\n",
       "      <td>Добавить два новых канала привлечения трафика, что позволит привлекать на 30% больше пользователей</td>\n",
       "      <td>13.333</td>\n",
       "    </tr>\n",
       "    <tr>\n",
       "      <th>7</th>\n",
       "      <td>Добавить форму подписки на все основные страницы, чтобы собрать базу клиентов для email-рассылок</td>\n",
       "      <td>11.200</td>\n",
       "    </tr>\n",
       "    <tr>\n",
       "      <th>6</th>\n",
       "      <td>Показать на главной странице баннеры с актуальными акциями и распродажами, чтобы увеличить конверсию</td>\n",
       "      <td>8.000</td>\n",
       "    </tr>\n",
       "    <tr>\n",
       "      <th>2</th>\n",
       "      <td>Добавить блоки рекомендаций товаров на сайт интернет магазина, чтобы повысить конверсию и средний чек заказа</td>\n",
       "      <td>7.000</td>\n",
       "    </tr>\n",
       "    <tr>\n",
       "      <th>1</th>\n",
       "      <td>Запустить собственную службу доставки, что сократит срок доставки заказов</td>\n",
       "      <td>2.000</td>\n",
       "    </tr>\n",
       "    <tr>\n",
       "      <th>5</th>\n",
       "      <td>Добавить страницу отзывов клиентов о магазине, что позволит увеличить количество заказов</td>\n",
       "      <td>1.333</td>\n",
       "    </tr>\n",
       "    <tr>\n",
       "      <th>3</th>\n",
       "      <td>Изменить структура категорий, что увеличит конверсию, т.к. пользователи быстрее найдут нужный товар</td>\n",
       "      <td>1.125</td>\n",
       "    </tr>\n",
       "    <tr>\n",
       "      <th>4</th>\n",
       "      <td>Изменить цвет фона главной страницы, чтобы увеличить вовлеченность пользователей</td>\n",
       "      <td>1.000</td>\n",
       "    </tr>\n",
       "  </tbody>\n",
       "</table>\n",
       "</div>"
      ],
      "text/plain": [
       "                                                                                                     hypothesis  \\\n",
       "8                                                       Запустить акцию, дающую скидку на товар в день рождения   \n",
       "0            Добавить два новых канала привлечения трафика, что позволит привлекать на 30% больше пользователей   \n",
       "7              Добавить форму подписки на все основные страницы, чтобы собрать базу клиентов для email-рассылок   \n",
       "6          Показать на главной странице баннеры с актуальными акциями и распродажами, чтобы увеличить конверсию   \n",
       "2  Добавить блоки рекомендаций товаров на сайт интернет магазина, чтобы повысить конверсию и средний чек заказа   \n",
       "1                                     Запустить собственную службу доставки, что сократит срок доставки заказов   \n",
       "5                      Добавить страницу отзывов клиентов о магазине, что позволит увеличить количество заказов   \n",
       "3           Изменить структура категорий, что увеличит конверсию, т.к. пользователи быстрее найдут нужный товар   \n",
       "4                              Изменить цвет фона главной страницы, чтобы увеличить вовлеченность пользователей   \n",
       "\n",
       "     ice  \n",
       "8 16.200  \n",
       "0 13.333  \n",
       "7 11.200  \n",
       "6  8.000  \n",
       "2  7.000  \n",
       "1  2.000  \n",
       "5  1.333  \n",
       "3  1.125  \n",
       "4  1.000  "
      ]
     },
     "execution_count": 13,
     "metadata": {},
     "output_type": "execute_result"
    }
   ],
   "source": [
    "hypothesis['ice'] = hypothesis['impact'] * hypothesis['confidence'] / hypothesis['efforts']\n",
    "\n",
    "hypothesis[['hypothesis', 'ice']].sort_values(by='ice', ascending=False)"
   ]
  },
  {
   "cell_type": "markdown",
   "metadata": {},
   "source": [
    "**Видим топ-5 гипотез, которым следует уделить особое внимание. Добавим к расчету параметр Reach (англ.: Охват) и приоритезируем гипотезы по методу RICE.**"
   ]
  },
  {
   "cell_type": "markdown",
   "metadata": {},
   "source": [
    "#### Применим фреймворк RICE для приоритизации гипотез. Отсортируйте их по убыванию приоритета."
   ]
  },
  {
   "cell_type": "code",
   "execution_count": 14,
   "metadata": {},
   "outputs": [
    {
     "data": {
      "text/html": [
       "<div>\n",
       "<style scoped>\n",
       "    .dataframe tbody tr th:only-of-type {\n",
       "        vertical-align: middle;\n",
       "    }\n",
       "\n",
       "    .dataframe tbody tr th {\n",
       "        vertical-align: top;\n",
       "    }\n",
       "\n",
       "    .dataframe thead th {\n",
       "        text-align: right;\n",
       "    }\n",
       "</style>\n",
       "<table border=\"1\" class=\"dataframe\">\n",
       "  <thead>\n",
       "    <tr style=\"text-align: right;\">\n",
       "      <th></th>\n",
       "      <th>hypothesis</th>\n",
       "      <th>rice</th>\n",
       "    </tr>\n",
       "  </thead>\n",
       "  <tbody>\n",
       "    <tr>\n",
       "      <th>7</th>\n",
       "      <td>Добавить форму подписки на все основные страницы, чтобы собрать базу клиентов для email-рассылок</td>\n",
       "      <td>112.000</td>\n",
       "    </tr>\n",
       "    <tr>\n",
       "      <th>2</th>\n",
       "      <td>Добавить блоки рекомендаций товаров на сайт интернет магазина, чтобы повысить конверсию и средний чек заказа</td>\n",
       "      <td>56.000</td>\n",
       "    </tr>\n",
       "    <tr>\n",
       "      <th>0</th>\n",
       "      <td>Добавить два новых канала привлечения трафика, что позволит привлекать на 30% больше пользователей</td>\n",
       "      <td>40.000</td>\n",
       "    </tr>\n",
       "    <tr>\n",
       "      <th>6</th>\n",
       "      <td>Показать на главной странице баннеры с актуальными акциями и распродажами, чтобы увеличить конверсию</td>\n",
       "      <td>40.000</td>\n",
       "    </tr>\n",
       "    <tr>\n",
       "      <th>8</th>\n",
       "      <td>Запустить акцию, дающую скидку на товар в день рождения</td>\n",
       "      <td>16.200</td>\n",
       "    </tr>\n",
       "    <tr>\n",
       "      <th>3</th>\n",
       "      <td>Изменить структура категорий, что увеличит конверсию, т.к. пользователи быстрее найдут нужный товар</td>\n",
       "      <td>9.000</td>\n",
       "    </tr>\n",
       "    <tr>\n",
       "      <th>1</th>\n",
       "      <td>Запустить собственную службу доставки, что сократит срок доставки заказов</td>\n",
       "      <td>4.000</td>\n",
       "    </tr>\n",
       "    <tr>\n",
       "      <th>5</th>\n",
       "      <td>Добавить страницу отзывов клиентов о магазине, что позволит увеличить количество заказов</td>\n",
       "      <td>4.000</td>\n",
       "    </tr>\n",
       "    <tr>\n",
       "      <th>4</th>\n",
       "      <td>Изменить цвет фона главной страницы, чтобы увеличить вовлеченность пользователей</td>\n",
       "      <td>3.000</td>\n",
       "    </tr>\n",
       "  </tbody>\n",
       "</table>\n",
       "</div>"
      ],
      "text/plain": [
       "                                                                                                     hypothesis  \\\n",
       "7              Добавить форму подписки на все основные страницы, чтобы собрать базу клиентов для email-рассылок   \n",
       "2  Добавить блоки рекомендаций товаров на сайт интернет магазина, чтобы повысить конверсию и средний чек заказа   \n",
       "0            Добавить два новых канала привлечения трафика, что позволит привлекать на 30% больше пользователей   \n",
       "6          Показать на главной странице баннеры с актуальными акциями и распродажами, чтобы увеличить конверсию   \n",
       "8                                                       Запустить акцию, дающую скидку на товар в день рождения   \n",
       "3           Изменить структура категорий, что увеличит конверсию, т.к. пользователи быстрее найдут нужный товар   \n",
       "1                                     Запустить собственную службу доставки, что сократит срок доставки заказов   \n",
       "5                      Добавить страницу отзывов клиентов о магазине, что позволит увеличить количество заказов   \n",
       "4                              Изменить цвет фона главной страницы, чтобы увеличить вовлеченность пользователей   \n",
       "\n",
       "     rice  \n",
       "7 112.000  \n",
       "2  56.000  \n",
       "0  40.000  \n",
       "6  40.000  \n",
       "8  16.200  \n",
       "3   9.000  \n",
       "1   4.000  \n",
       "5   4.000  \n",
       "4   3.000  "
      ]
     },
     "execution_count": 14,
     "metadata": {},
     "output_type": "execute_result"
    }
   ],
   "source": [
    "hypothesis['rice'] = hypothesis['reach'] * hypothesis['impact'] * hypothesis['confidence'] / hypothesis['efforts']\n",
    "\n",
    "hypothesis[['hypothesis', 'rice']].sort_values(by='rice', ascending=False)"
   ]
  },
  {
   "cell_type": "markdown",
   "metadata": {},
   "source": [
    "**Видим те же самые гипотезы в топе, только в другой последовательности. Разница приоритизации заключается в том, что одна учитывает кол-во пользователей, которых затронут изменения, а другая - нет.**"
   ]
  },
  {
   "cell_type": "markdown",
   "metadata": {},
   "source": [
    "### Часть 2. Анализ A/B-теста."
   ]
  },
  {
   "cell_type": "markdown",
   "metadata": {},
   "source": [
    "**Был проведён A/B-тест и получены результаты, которые описаны в файлах /datasets/orders.csv и /datasets/visitors.csv.**\n",
    "**Проанализируем его.**\n",
    "\n",
    "**Чтобы построить графики по кумулятивным (накапливаемым) данным, нужно собрать агрегированный датафрейм, содержащий информацию о дате, группе (А или В), кумулятивном количестве заказов и пользователей, которые их оформили, среднем чеке и о кумулятивном количестве посетителей магазина.**"
   ]
  },
  {
   "cell_type": "code",
   "execution_count": 15,
   "metadata": {},
   "outputs": [
    {
     "data": {
      "text/html": [
       "<div>\n",
       "<style scoped>\n",
       "    .dataframe tbody tr th:only-of-type {\n",
       "        vertical-align: middle;\n",
       "    }\n",
       "\n",
       "    .dataframe tbody tr th {\n",
       "        vertical-align: top;\n",
       "    }\n",
       "\n",
       "    .dataframe thead th {\n",
       "        text-align: right;\n",
       "    }\n",
       "</style>\n",
       "<table border=\"1\" class=\"dataframe\">\n",
       "  <thead>\n",
       "    <tr style=\"text-align: right;\">\n",
       "      <th></th>\n",
       "      <th>date</th>\n",
       "      <th>group</th>\n",
       "      <th>transaction_id</th>\n",
       "      <th>visitor_id</th>\n",
       "      <th>revenue</th>\n",
       "    </tr>\n",
       "  </thead>\n",
       "  <tbody>\n",
       "    <tr>\n",
       "      <th>55</th>\n",
       "      <td>2019-08-01</td>\n",
       "      <td>A</td>\n",
       "      <td>24</td>\n",
       "      <td>20</td>\n",
       "      <td>148579</td>\n",
       "    </tr>\n",
       "    <tr>\n",
       "      <th>66</th>\n",
       "      <td>2019-08-01</td>\n",
       "      <td>B</td>\n",
       "      <td>21</td>\n",
       "      <td>20</td>\n",
       "      <td>101217</td>\n",
       "    </tr>\n",
       "    <tr>\n",
       "      <th>175</th>\n",
       "      <td>2019-08-02</td>\n",
       "      <td>A</td>\n",
       "      <td>44</td>\n",
       "      <td>38</td>\n",
       "      <td>242401</td>\n",
       "    </tr>\n",
       "    <tr>\n",
       "      <th>173</th>\n",
       "      <td>2019-08-02</td>\n",
       "      <td>B</td>\n",
       "      <td>45</td>\n",
       "      <td>43</td>\n",
       "      <td>266748</td>\n",
       "    </tr>\n",
       "    <tr>\n",
       "      <th>291</th>\n",
       "      <td>2019-08-03</td>\n",
       "      <td>A</td>\n",
       "      <td>68</td>\n",
       "      <td>62</td>\n",
       "      <td>354874</td>\n",
       "    </tr>\n",
       "    <tr>\n",
       "      <th>310</th>\n",
       "      <td>2019-08-03</td>\n",
       "      <td>B</td>\n",
       "      <td>61</td>\n",
       "      <td>59</td>\n",
       "      <td>380996</td>\n",
       "    </tr>\n",
       "  </tbody>\n",
       "</table>\n",
       "</div>"
      ],
      "text/plain": [
       "          date group  transaction_id  visitor_id  revenue\n",
       "55  2019-08-01     A              24          20   148579\n",
       "66  2019-08-01     B              21          20   101217\n",
       "175 2019-08-02     A              44          38   242401\n",
       "173 2019-08-02     B              45          43   266748\n",
       "291 2019-08-03     A              68          62   354874\n",
       "310 2019-08-03     B              61          59   380996"
      ]
     },
     "execution_count": 15,
     "metadata": {},
     "output_type": "execute_result"
    }
   ],
   "source": [
    "# создаем массив уникальных пар значений дат и групп теста\n",
    "dates_grouped = orders[['date', 'group']].drop_duplicates()\n",
    "\n",
    "# получаем агрегированные кумулятивные по дням данные о заказах \n",
    "orders_grouped = dates_grouped.apply(\n",
    "    lambda x: orders[\n",
    "        np.logical_and(\n",
    "            orders['date'] <= x['date'], orders['group'] == x['group']\n",
    "        )\n",
    "    ].agg(\n",
    "        {\n",
    "            'date': 'max',\n",
    "            'group': 'max',\n",
    "            'transaction_id': 'nunique',\n",
    "            'visitor_id': 'nunique',\n",
    "            'revenue': 'sum',\n",
    "        }\n",
    "    ),\n",
    "    axis=1,\n",
    ").sort_values(by=['date', 'group'])\n",
    "\n",
    "orders_grouped.head(6)"
   ]
  },
  {
   "cell_type": "code",
   "execution_count": 16,
   "metadata": {},
   "outputs": [
    {
     "data": {
      "text/html": [
       "<div>\n",
       "<style scoped>\n",
       "    .dataframe tbody tr th:only-of-type {\n",
       "        vertical-align: middle;\n",
       "    }\n",
       "\n",
       "    .dataframe tbody tr th {\n",
       "        vertical-align: top;\n",
       "    }\n",
       "\n",
       "    .dataframe thead th {\n",
       "        text-align: right;\n",
       "    }\n",
       "</style>\n",
       "<table border=\"1\" class=\"dataframe\">\n",
       "  <thead>\n",
       "    <tr style=\"text-align: right;\">\n",
       "      <th></th>\n",
       "      <th>date</th>\n",
       "      <th>group</th>\n",
       "      <th>visitors</th>\n",
       "    </tr>\n",
       "  </thead>\n",
       "  <tbody>\n",
       "    <tr>\n",
       "      <th>55</th>\n",
       "      <td>2019-08-01</td>\n",
       "      <td>A</td>\n",
       "      <td>719</td>\n",
       "    </tr>\n",
       "    <tr>\n",
       "      <th>66</th>\n",
       "      <td>2019-08-01</td>\n",
       "      <td>B</td>\n",
       "      <td>713</td>\n",
       "    </tr>\n",
       "    <tr>\n",
       "      <th>175</th>\n",
       "      <td>2019-08-02</td>\n",
       "      <td>A</td>\n",
       "      <td>1338</td>\n",
       "    </tr>\n",
       "    <tr>\n",
       "      <th>173</th>\n",
       "      <td>2019-08-02</td>\n",
       "      <td>B</td>\n",
       "      <td>1294</td>\n",
       "    </tr>\n",
       "    <tr>\n",
       "      <th>291</th>\n",
       "      <td>2019-08-03</td>\n",
       "      <td>A</td>\n",
       "      <td>1845</td>\n",
       "    </tr>\n",
       "    <tr>\n",
       "      <th>310</th>\n",
       "      <td>2019-08-03</td>\n",
       "      <td>B</td>\n",
       "      <td>1803</td>\n",
       "    </tr>\n",
       "  </tbody>\n",
       "</table>\n",
       "</div>"
      ],
      "text/plain": [
       "          date group  visitors\n",
       "55  2019-08-01     A       719\n",
       "66  2019-08-01     B       713\n",
       "175 2019-08-02     A      1338\n",
       "173 2019-08-02     B      1294\n",
       "291 2019-08-03     A      1845\n",
       "310 2019-08-03     B      1803"
      ]
     },
     "execution_count": 16,
     "metadata": {},
     "output_type": "execute_result"
    }
   ],
   "source": [
    "# получаем агрегированные кумулятивные по дням данные о посетителях интернет-магазина \n",
    "\n",
    "visitors_grouped = dates_grouped.apply(\n",
    "    lambda x: visitors[\n",
    "        np.logical_and(\n",
    "            visitors['date'] <= x['date'], visitors['group'] == x['group']\n",
    "        )\n",
    "    ].agg(\n",
    "        {\n",
    "            'date': 'max', \n",
    "            'group': 'max', \n",
    "            'visitors': 'sum'\n",
    "        }\n",
    "    ),\n",
    "    axis=1,\n",
    ").sort_values(by=['date', 'group'])\n",
    "\n",
    "visitors_grouped.head(6)"
   ]
  },
  {
   "cell_type": "code",
   "execution_count": 17,
   "metadata": {},
   "outputs": [],
   "source": [
    "# объединяем кумулятивные данные в одной таблице и присваиваем ее столбцам понятные названия\n",
    "\n",
    "cumulative_data = orders_grouped.merge(\n",
    "    visitors_grouped, \n",
    "    left_on=['date', 'group'], \n",
    "    right_on=['date', 'group']\n",
    ")\n",
    "\n",
    "cumulative_data.columns = ['date', 'group', 'orders', 'buyers', 'revenue', 'visitors']"
   ]
  },
  {
   "cell_type": "code",
   "execution_count": 18,
   "metadata": {},
   "outputs": [
    {
     "data": {
      "text/html": [
       "<div>\n",
       "<style scoped>\n",
       "    .dataframe tbody tr th:only-of-type {\n",
       "        vertical-align: middle;\n",
       "    }\n",
       "\n",
       "    .dataframe tbody tr th {\n",
       "        vertical-align: top;\n",
       "    }\n",
       "\n",
       "    .dataframe thead th {\n",
       "        text-align: right;\n",
       "    }\n",
       "</style>\n",
       "<table border=\"1\" class=\"dataframe\">\n",
       "  <thead>\n",
       "    <tr style=\"text-align: right;\">\n",
       "      <th></th>\n",
       "      <th>date</th>\n",
       "      <th>group</th>\n",
       "      <th>orders</th>\n",
       "      <th>buyers</th>\n",
       "      <th>revenue</th>\n",
       "      <th>visitors</th>\n",
       "      <th>conversion</th>\n",
       "    </tr>\n",
       "  </thead>\n",
       "  <tbody>\n",
       "    <tr>\n",
       "      <th>0</th>\n",
       "      <td>2019-08-01</td>\n",
       "      <td>A</td>\n",
       "      <td>24</td>\n",
       "      <td>20</td>\n",
       "      <td>148579</td>\n",
       "      <td>719</td>\n",
       "      <td>0.033</td>\n",
       "    </tr>\n",
       "    <tr>\n",
       "      <th>1</th>\n",
       "      <td>2019-08-01</td>\n",
       "      <td>B</td>\n",
       "      <td>21</td>\n",
       "      <td>20</td>\n",
       "      <td>101217</td>\n",
       "      <td>713</td>\n",
       "      <td>0.029</td>\n",
       "    </tr>\n",
       "    <tr>\n",
       "      <th>2</th>\n",
       "      <td>2019-08-02</td>\n",
       "      <td>A</td>\n",
       "      <td>44</td>\n",
       "      <td>38</td>\n",
       "      <td>242401</td>\n",
       "      <td>1338</td>\n",
       "      <td>0.033</td>\n",
       "    </tr>\n",
       "    <tr>\n",
       "      <th>3</th>\n",
       "      <td>2019-08-02</td>\n",
       "      <td>B</td>\n",
       "      <td>45</td>\n",
       "      <td>43</td>\n",
       "      <td>266748</td>\n",
       "      <td>1294</td>\n",
       "      <td>0.035</td>\n",
       "    </tr>\n",
       "    <tr>\n",
       "      <th>4</th>\n",
       "      <td>2019-08-03</td>\n",
       "      <td>A</td>\n",
       "      <td>68</td>\n",
       "      <td>62</td>\n",
       "      <td>354874</td>\n",
       "      <td>1845</td>\n",
       "      <td>0.037</td>\n",
       "    </tr>\n",
       "    <tr>\n",
       "      <th>5</th>\n",
       "      <td>2019-08-03</td>\n",
       "      <td>B</td>\n",
       "      <td>61</td>\n",
       "      <td>59</td>\n",
       "      <td>380996</td>\n",
       "      <td>1803</td>\n",
       "      <td>0.034</td>\n",
       "    </tr>\n",
       "  </tbody>\n",
       "</table>\n",
       "</div>"
      ],
      "text/plain": [
       "        date group  orders  buyers  revenue  visitors  conversion\n",
       "0 2019-08-01     A      24      20   148579       719       0.033\n",
       "1 2019-08-01     B      21      20   101217       713       0.029\n",
       "2 2019-08-02     A      44      38   242401      1338       0.033\n",
       "3 2019-08-02     B      45      43   266748      1294       0.035\n",
       "4 2019-08-03     A      68      62   354874      1845       0.037\n",
       "5 2019-08-03     B      61      59   380996      1803       0.034"
      ]
     },
     "execution_count": 18,
     "metadata": {},
     "output_type": "execute_result"
    }
   ],
   "source": [
    "#добавим колонку с конверсией\n",
    "cumulative_data['conversion'] = cumulative_data['orders'] / cumulative_data['visitors']\n",
    "cumulative_data.head(6)"
   ]
  },
  {
   "cell_type": "markdown",
   "metadata": {},
   "source": [
    "#### Построим график кумулятивной выручки по группам."
   ]
  },
  {
   "cell_type": "code",
   "execution_count": 19,
   "metadata": {},
   "outputs": [
    {
     "data": {
      "image/png": "[encoded data removed]",
      "text/plain": [
       "<Figure size 648x360 with 1 Axes>"
      ]
     },
     "metadata": {},
     "output_type": "display_data"
    }
   ],
   "source": [
    "# датафрейм с кумулятивным количеством заказов и кумулятивной выручкой по дням в группе А\n",
    "cumulative_revenue_a = cumulative_data[cumulative_data['group']=='A'][['date','revenue', 'orders']]\n",
    "\n",
    "# датафрейм с кумулятивным количеством заказов и кумулятивной выручкой по дням в группе B\n",
    "cumulative_revenue_b = cumulative_data[cumulative_data['group']=='B'][['date','revenue', 'orders']]\n",
    "\n",
    "plt.plot(cumulative_revenue_a['date'], cumulative_revenue_a['revenue'], label='A')\n",
    "plt.plot(cumulative_revenue_b['date'], cumulative_revenue_b['revenue'], label='B')\n",
    "plt.title('График динамики кумулятивной выручки по группам А и В')\n",
    "plt.ylabel(\"Выручка, млн.\")\n",
    "plt.xticks(rotation=30)\n",
    "plt.legend()\n",
    "plt.show()"
   ]
  },
  {
   "cell_type": "markdown",
   "metadata": {},
   "source": [
    "**Видно, что кумулятивная выручка группы А растет линейно, и она меньше, чем у группы В.\n",
    "При этом в группе В есть резкий скачок в районе 18-го августа, что может говорить о возросшем числе заказов, либо о появлении очень дорогих заказов в выборке.**"
   ]
  },
  {
   "cell_type": "markdown",
   "metadata": {},
   "source": [
    "#### Построим график кумулятивного среднего чека по группам."
   ]
  },
  {
   "cell_type": "code",
   "execution_count": 20,
   "metadata": {},
   "outputs": [
    {
     "data": {
      "image/png": "[encoded data removed]",
      "text/plain": [
       "<Figure size 648x360 with 1 Axes>"
      ]
     },
     "metadata": {},
     "output_type": "display_data"
    }
   ],
   "source": [
    "plt.plot(cumulative_revenue_a['date'], \n",
    "         cumulative_revenue_a['revenue'] / cumulative_revenue_a['orders'],\n",
    "         label='A')\n",
    "\n",
    "plt.plot(cumulative_revenue_b['date'], \n",
    "         cumulative_revenue_b['revenue'] / cumulative_revenue_b['orders'], \n",
    "         label='B')\n",
    "\n",
    "plt.title('График динамики кумулятивного среднего чека по группам А и В')\n",
    "plt.ylabel(\"Выручка, млн.\")\n",
    "plt.xticks(rotation=30)\n",
    "plt.legend()\n",
    "plt.show()"
   ]
  },
  {
   "cell_type": "markdown",
   "metadata": {},
   "source": [
    "**Видим, что средний чек в группе А через какое-то время стабилизировался. Средний чек группы В показал резкий рывок, что говорит в пользу версии о дорогой покупке.**"
   ]
  },
  {
   "cell_type": "markdown",
   "metadata": {},
   "source": [
    "#### Построим график относительного изменения кумулятивного среднего чека группы B к группе A."
   ]
  },
  {
   "cell_type": "code",
   "execution_count": 21,
   "metadata": {},
   "outputs": [
    {
     "data": {
      "image/png": "[encoded data removed]",
      "text/plain": [
       "<Figure size 648x360 with 1 Axes>"
      ]
     },
     "metadata": {},
     "output_type": "display_data"
    }
   ],
   "source": [
    "# собираем данные в одном датафрейме\n",
    "cumulative_revenue_ab = cumulative_revenue_a.merge(\n",
    "    cumulative_revenue_b, \n",
    "    left_on='date', \n",
    "    right_on='date', \n",
    "    how='left', \n",
    "    suffixes=['_a', '_b']\n",
    ")\n",
    "\n",
    "# cтроим отношение средних чеков\n",
    "plt.plot(cumulative_revenue_ab['date'], \n",
    "         (\n",
    "             cumulative_revenue_ab['revenue_b']/cumulative_revenue_ab['orders_b']\n",
    "         )/\n",
    "         (\n",
    "             cumulative_revenue_ab['revenue_a']/cumulative_revenue_ab['orders_a']\n",
    "         )-1\n",
    "        )\n",
    "\n",
    "# добавляем ось X\n",
    "plt.axhline(y=0, color='black', linestyle='--')\n",
    "plt.title('График относительного изменения кумулятивного среднего чека группы B к группе A')\n",
    "plt.xticks(rotation=30)\n",
    "plt.show()"
   ]
  },
  {
   "cell_type": "markdown",
   "metadata": {},
   "source": [
    "**График резко скачет в нескольких точках, что намекает на наличие выбросов и/или крупных заказов.**"
   ]
  },
  {
   "cell_type": "markdown",
   "metadata": {},
   "source": [
    "#### Построим график кумулятивного среднего количества заказов на посетителя по группам."
   ]
  },
  {
   "cell_type": "code",
   "execution_count": 22,
   "metadata": {},
   "outputs": [
    {
     "data": {
      "image/png": "[encoded data removed]",
      "text/plain": [
       "<Figure size 648x360 with 1 Axes>"
      ]
     },
     "metadata": {},
     "output_type": "display_data"
    }
   ],
   "source": [
    "ordersAggregated = dates_grouped.apply(\n",
    "    lambda x: orders[\n",
    "        np.logical_and(\n",
    "            orders['date'] <= x['date'], orders['group'] == x['group']\n",
    "        )\n",
    "    ].agg(\n",
    "        {\n",
    "            'date': 'max',\n",
    "            'group': 'max',\n",
    "            'transaction_id': 'nunique',\n",
    "            'visitor_id': 'nunique',\n",
    "            'revenue': 'sum',\n",
    "        }\n",
    "    ),\n",
    "    axis=1,\n",
    ").sort_values(by=['date', 'group'])\n",
    "\n",
    "visitorsAggregated = dates_grouped.apply(\n",
    "    lambda x: visitors[\n",
    "        np.logical_and(\n",
    "            visitors['date'] <= x['date'], visitors['group'] == x['group']\n",
    "        )\n",
    "    ].agg({'date': 'max', \n",
    "            'group': 'max', \n",
    "            'visitors': 'sum'}),\n",
    "    axis=1,\n",
    ").sort_values(by=['date', 'group'])\n",
    "# считаем среднее количество заказов на посетителя\n",
    "cumulative_data['conversion'] = cumulative_data['orders']/cumulative_data['visitors']\n",
    "\n",
    "# отделяем данные по группе A\n",
    "cumulativeDataA = cumulative_data[cumulative_data['group']=='A']\n",
    "\n",
    "# отделяем данные по группе B\n",
    "cumulativeDataB = cumulative_data[cumulative_data['group']=='B']\n",
    "\n",
    "# строим графики\n",
    "plt.plot(cumulativeDataA['date'], cumulativeDataA['conversion'], label='A')\n",
    "plt.plot(cumulativeDataB['date'], cumulativeDataB['conversion'], label='B')\n",
    "plt.title('График динамики кумулятивного среднего количества заказов на посетителя по группам')\n",
    "plt.ylabel(\"Количество заказов на посетителя\")\n",
    "plt.xticks(rotation=30)\n",
    "plt.legend()\n",
    "plt.show()"
   ]
  },
  {
   "cell_type": "markdown",
   "metadata": {},
   "source": [
    "**Сначала среднее количество заказов на посетителя колебалось, но довольно быстро выровнялись. Везультат группы В выглядит более привлекательным.**"
   ]
  },
  {
   "cell_type": "markdown",
   "metadata": {},
   "source": [
    "#### Построим график относительного изменения кумулятивного среднего количества заказов на посетителя группы B к группе A."
   ]
  },
  {
   "cell_type": "code",
   "execution_count": 23,
   "metadata": {},
   "outputs": [
    {
     "data": {
      "image/png": "[encoded data removed]",
      "text/plain": [
       "<Figure size 648x360 with 1 Axes>"
      ]
     },
     "metadata": {},
     "output_type": "display_data"
    }
   ],
   "source": [
    "mergedCumulativeConversions = cumulativeDataA[['date','conversion']].merge(cumulativeDataB[['date','conversion']], left_on='date', right_on='date', how='left', suffixes=['A', 'B'])\n",
    "\n",
    "plt.plot(mergedCumulativeConversions['date'], mergedCumulativeConversions['conversionB']/mergedCumulativeConversions['conversionA']-1)\n",
    "\n",
    "plt.axhline(y=0, color='black', linestyle='--')\n",
    "plt.title('             График относительного изменения кумулятивного среднего чека группы B к группе A')\n",
    "plt.xticks(rotation=30)\n",
    "plt.show()"
   ]
  },
  {
   "cell_type": "markdown",
   "metadata": {},
   "source": [
    "**В начале теста группа В проигрывала группе А, но затем вырвалась вперед. Ее куммулятивная метрика стремительно росла, далее начался медленный спад. Теперь среднее количество заказов группы В снова растет.\n",
    "Помним, что графики выше сигнализировали нам о наличии крупных заказов.\n",
    "Проанализируем данные после чистки от выбросов еще раз.**"
   ]
  },
  {
   "cell_type": "markdown",
   "metadata": {},
   "source": [
    "#### Построим точечный график количества заказов по пользователям. "
   ]
  },
  {
   "cell_type": "code",
   "execution_count": 24,
   "metadata": {},
   "outputs": [
    {
     "data": {
      "text/plain": [
       "count   1,031.000\n",
       "mean        1.161\n",
       "std         0.725\n",
       "min         1.000\n",
       "25%         1.000\n",
       "50%         1.000\n",
       "75%         1.000\n",
       "max        11.000\n",
       "Name: orders, dtype: float64"
      ]
     },
     "metadata": {},
     "output_type": "display_data"
    },
    {
     "data": {
      "image/png": "[encoded data removed]",
      "text/plain": [
       "<Figure size 648x360 with 1 Axes>"
      ]
     },
     "metadata": {},
     "output_type": "display_data"
    }
   ],
   "source": [
    "orders_by_users = (\n",
    "    orders.groupby('visitor_id', as_index=False)\n",
    "    .agg({'transaction_id': 'nunique'})\n",
    ")\n",
    "orders_by_users.columns =  ['visitor_id', 'orders']\n",
    "display(orders_by_users['orders'].describe())\n",
    "\n",
    "# строим гистограмму\n",
    "plt.hist(orders_by_users['orders'], alpha=0.5) \n",
    "plt.title('Распределение количества заказов по пользователям')\n",
    "plt.xlabel('Количество заказов')\n",
    "plt.ylabel('Количество пользователей')\n",
    "plt.show()"
   ]
  },
  {
   "cell_type": "markdown",
   "metadata": {},
   "source": [
    "**Большинство пользователей оформляли заказ один раз, но есть и те, кто успел заказать за месяц 11 раз.**"
   ]
  },
  {
   "cell_type": "code",
   "execution_count": 25,
   "metadata": {},
   "outputs": [
    {
     "data": {
      "image/png": "[encoded data removed]",
      "text/plain": [
       "<Figure size 648x360 with 1 Axes>"
      ]
     },
     "metadata": {},
     "output_type": "display_data"
    }
   ],
   "source": [
    "x_values = pd.Series(range(0,len(orders_by_users)))\n",
    "\n",
    "# строим точечную диаграмму\n",
    "plt.scatter(x_values, orders_by_users['orders'], color='purple', alpha=0.33)\n",
    "plt.title('Распределение количества заказов по пользователям')\n",
    "plt.show()"
   ]
  },
  {
   "cell_type": "markdown",
   "metadata": {},
   "source": [
    "**Много пользователей с 2-3 заказами. Их точная доля не ясна, поэтому сложно понять, можно ли считать их выбросами или нет.\n",
    "Посчитаем 95-й и 99-й перцентили количества заказов на пользователя и выберем границу для определения аномальных пользователей.**"
   ]
  },
  {
   "cell_type": "markdown",
   "metadata": {},
   "source": [
    "#### Посчитаем 95-й и 99-й перцентили количества заказов на пользователя."
   ]
  },
  {
   "cell_type": "code",
   "execution_count": 26,
   "metadata": {},
   "outputs": [
    {
     "data": {
      "text/plain": [
       "array([2., 4.])"
      ]
     },
     "execution_count": 26,
     "metadata": {},
     "output_type": "execute_result"
    }
   ],
   "source": [
    "np.percentile(orders_by_users['orders'], [95, 99])"
   ]
  },
  {
   "cell_type": "markdown",
   "metadata": {},
   "source": [
    "**Не более 5% пользователей совершали больше 2-х покупок в течение тестирования. И только 1% - четыре и более.\n",
    "Примем за верхнюю границу 4 заказа на одного пользователя.**"
   ]
  },
  {
   "cell_type": "markdown",
   "metadata": {},
   "source": [
    "#### Построим точечный график стоимостей заказов."
   ]
  },
  {
   "cell_type": "code",
   "execution_count": 27,
   "metadata": {},
   "outputs": [
    {
     "data": {
      "text/plain": [
       "count       1,197.000\n",
       "mean        8,348.006\n",
       "std        39,191.132\n",
       "min            50.000\n",
       "25%         1,220.000\n",
       "50%         2,978.000\n",
       "75%         8,290.000\n",
       "max     1,294,500.000\n",
       "Name: revenue, dtype: float64"
      ]
     },
     "metadata": {},
     "output_type": "display_data"
    },
    {
     "data": {
      "image/png": "[encoded data removed]",
      "text/plain": [
       "<Figure size 648x360 with 1 Axes>"
      ]
     },
     "metadata": {},
     "output_type": "display_data"
    }
   ],
   "source": [
    "display(orders['revenue'].describe())\n",
    "\n",
    "# строим гистограмму\n",
    "plt.hist(orders['revenue']) \n",
    "plt.title('Распределение стоимости заказов по пользователям')\n",
    "plt.xlabel('Стоимость заказов')\n",
    "plt.ylabel('Количество пользователей')\n",
    "plt.show()"
   ]
  },
  {
   "cell_type": "markdown",
   "metadata": {},
   "source": [
    "**Средняя стоимость заказа 8 348, максимальная 1 294 500.**"
   ]
  },
  {
   "cell_type": "code",
   "execution_count": 28,
   "metadata": {},
   "outputs": [
    {
     "data": {
      "image/png": "[encoded data removed]",
      "text/plain": [
       "<Figure size 648x360 with 1 Axes>"
      ]
     },
     "metadata": {},
     "output_type": "display_data"
    }
   ],
   "source": [
    "x_values = pd.Series(range(0,len(orders['revenue'])))\n",
    "\n",
    "# строим точечную диаграмму\n",
    "plt.scatter(x_values, orders['revenue'], color='red', alpha=0.33)\n",
    "plt.title('Распределение стоимости заказов по пользователям')\n",
    "plt.show()"
   ]
  },
  {
   "cell_type": "markdown",
   "metadata": {},
   "source": [
    "**Снова видим этот гигантский заказ, который вызвал всплеск на графиках кумулятивных метрик, а так же другие весомые заказы, которые могут повлиять на результат исследований.**\n",
    "\n",
    "**Пострим аналогичный график без двух крупных выбросов, которые заметили выше.**"
   ]
  },
  {
   "cell_type": "code",
   "execution_count": 29,
   "metadata": {},
   "outputs": [
    {
     "data": {
      "image/png": "[encoded data removed]",
      "text/plain": [
       "<Figure size 648x360 with 1 Axes>"
      ]
     },
     "metadata": {},
     "output_type": "display_data"
    }
   ],
   "source": [
    "# строим точечную диаграмму\n",
    "plt.ylim(0, 150000)\n",
    "plt.scatter(x_values, orders['revenue'], color='red', alpha=0.33)\n",
    "plt.title('Распределение стоимости заказов по пользователям')\n",
    "plt.show()"
   ]
  },
  {
   "cell_type": "markdown",
   "metadata": {},
   "source": [
    "**Видим, что стоимость основной массы заказов не превышает 20000.\n",
    "Посчитаем 95-й и 99-й перцентили стоимости заказов на пользователя и выберим границу для определения аномалий.**"
   ]
  },
  {
   "cell_type": "markdown",
   "metadata": {},
   "source": [
    "#### Посчитайте 95-й и 99-й перцентили стоимости заказов. Выберите границу для определения аномальных заказов."
   ]
  },
  {
   "cell_type": "code",
   "execution_count": 30,
   "metadata": {},
   "outputs": [
    {
     "name": "stdout",
     "output_type": "stream",
     "text": [
      "[28000.  58233.2]\n"
     ]
    }
   ],
   "source": [
    "print(np.percentile(orders['revenue'], [95, 99])) "
   ]
  },
  {
   "cell_type": "markdown",
   "metadata": {},
   "source": [
    "**Определяем границу по величине 99% перцентиля (58233.2).**"
   ]
  },
  {
   "cell_type": "markdown",
   "metadata": {},
   "source": [
    "#### Посчитаем статистическую значимость различий в среднем количестве заказов на посетителя между группами по «сырым» данным."
   ]
  },
  {
   "cell_type": "markdown",
   "metadata": {},
   "source": [
    "**Ранее мы результаты A/B-теста визуально и выяснили, что в данных, скорее всего, есть выбросы. Потом увидели выбросы и нашли границу для их определения.**\n",
    "\n",
    "**Посчитаем статистическую значимость различий в среднем количестве заказов на посетителя между группами по «сырым» данным.**\n",
    "\n",
    "**Введем основную и альтернативные гипотезы:**\n",
    "\n",
    "- H0: различий в среднем количестве заказов на посетителя между группами нет;\n",
    "- H1: различия в среднем количестве заказов на посетителя между группами присутствуют.\n",
    "\n",
    "**Уровень значимости α = 0.05.**\n",
    "\n",
    "**Начнём с подготовки данных.**\n",
    "\n",
    "**Так как данные о продажах и средних продажах редко бывают нормально распределены, для проверки гипотез используем непараметрический тест Уилкоксона-Манна-Уитни.\n",
    "Для уровеня значимости установим стандартный уровень статистической значимости, равный 0.05.**\n"
   ]
  },
  {
   "cell_type": "code",
   "execution_count": 31,
   "metadata": {},
   "outputs": [
    {
     "data": {
      "text/html": [
       "<div>\n",
       "<style scoped>\n",
       "    .dataframe tbody tr th:only-of-type {\n",
       "        vertical-align: middle;\n",
       "    }\n",
       "\n",
       "    .dataframe tbody tr th {\n",
       "        vertical-align: top;\n",
       "    }\n",
       "\n",
       "    .dataframe thead th {\n",
       "        text-align: right;\n",
       "    }\n",
       "</style>\n",
       "<table border=\"1\" class=\"dataframe\">\n",
       "  <thead>\n",
       "    <tr style=\"text-align: right;\">\n",
       "      <th></th>\n",
       "      <th>date</th>\n",
       "      <th>orders_daily_a</th>\n",
       "      <th>revenue_per_date_a</th>\n",
       "      <th>orders_daily_b</th>\n",
       "      <th>revenue_per_date_b</th>\n",
       "      <th>orders_cummulative_a</th>\n",
       "      <th>revenue_cummulative_a</th>\n",
       "      <th>orders_cummulative_b</th>\n",
       "      <th>revenue_cummulative_b</th>\n",
       "      <th>visitors_per_date_a</th>\n",
       "      <th>visitors_per_date_b</th>\n",
       "      <th>visitors_cummulative_a</th>\n",
       "      <th>visitors_cummulative_b</th>\n",
       "    </tr>\n",
       "  </thead>\n",
       "  <tbody>\n",
       "    <tr>\n",
       "      <th>0</th>\n",
       "      <td>2019-08-01</td>\n",
       "      <td>24</td>\n",
       "      <td>148579</td>\n",
       "      <td>21</td>\n",
       "      <td>101217</td>\n",
       "      <td>24</td>\n",
       "      <td>148579</td>\n",
       "      <td>21</td>\n",
       "      <td>101217</td>\n",
       "      <td>719</td>\n",
       "      <td>713</td>\n",
       "      <td>719</td>\n",
       "      <td>713</td>\n",
       "    </tr>\n",
       "    <tr>\n",
       "      <th>1</th>\n",
       "      <td>2019-08-02</td>\n",
       "      <td>20</td>\n",
       "      <td>93822</td>\n",
       "      <td>24</td>\n",
       "      <td>165531</td>\n",
       "      <td>44</td>\n",
       "      <td>242401</td>\n",
       "      <td>45</td>\n",
       "      <td>266748</td>\n",
       "      <td>619</td>\n",
       "      <td>581</td>\n",
       "      <td>1338</td>\n",
       "      <td>1294</td>\n",
       "    </tr>\n",
       "    <tr>\n",
       "      <th>2</th>\n",
       "      <td>2019-08-03</td>\n",
       "      <td>24</td>\n",
       "      <td>112473</td>\n",
       "      <td>16</td>\n",
       "      <td>114248</td>\n",
       "      <td>68</td>\n",
       "      <td>354874</td>\n",
       "      <td>61</td>\n",
       "      <td>380996</td>\n",
       "      <td>507</td>\n",
       "      <td>509</td>\n",
       "      <td>1845</td>\n",
       "      <td>1803</td>\n",
       "    </tr>\n",
       "    <tr>\n",
       "      <th>3</th>\n",
       "      <td>2019-08-04</td>\n",
       "      <td>16</td>\n",
       "      <td>70825</td>\n",
       "      <td>17</td>\n",
       "      <td>108571</td>\n",
       "      <td>84</td>\n",
       "      <td>425699</td>\n",
       "      <td>78</td>\n",
       "      <td>489567</td>\n",
       "      <td>717</td>\n",
       "      <td>770</td>\n",
       "      <td>2562</td>\n",
       "      <td>2573</td>\n",
       "    </tr>\n",
       "    <tr>\n",
       "      <th>4</th>\n",
       "      <td>2019-08-05</td>\n",
       "      <td>25</td>\n",
       "      <td>124218</td>\n",
       "      <td>23</td>\n",
       "      <td>92428</td>\n",
       "      <td>109</td>\n",
       "      <td>549917</td>\n",
       "      <td>101</td>\n",
       "      <td>581995</td>\n",
       "      <td>756</td>\n",
       "      <td>707</td>\n",
       "      <td>3318</td>\n",
       "      <td>3280</td>\n",
       "    </tr>\n",
       "    <tr>\n",
       "      <th>5</th>\n",
       "      <td>2019-08-06</td>\n",
       "      <td>18</td>\n",
       "      <td>48484</td>\n",
       "      <td>28</td>\n",
       "      <td>242342</td>\n",
       "      <td>127</td>\n",
       "      <td>598401</td>\n",
       "      <td>129</td>\n",
       "      <td>824337</td>\n",
       "      <td>667</td>\n",
       "      <td>655</td>\n",
       "      <td>3985</td>\n",
       "      <td>3935</td>\n",
       "    </tr>\n",
       "  </tbody>\n",
       "</table>\n",
       "</div>"
      ],
      "text/plain": [
       "        date  orders_daily_a  revenue_per_date_a  orders_daily_b  \\\n",
       "0 2019-08-01              24              148579              21   \n",
       "1 2019-08-02              20               93822              24   \n",
       "2 2019-08-03              24              112473              16   \n",
       "3 2019-08-04              16               70825              17   \n",
       "4 2019-08-05              25              124218              23   \n",
       "5 2019-08-06              18               48484              28   \n",
       "\n",
       "   revenue_per_date_b  orders_cummulative_a  revenue_cummulative_a  \\\n",
       "0              101217                    24                 148579   \n",
       "1              165531                    44                 242401   \n",
       "2              114248                    68                 354874   \n",
       "3              108571                    84                 425699   \n",
       "4               92428                   109                 549917   \n",
       "5              242342                   127                 598401   \n",
       "\n",
       "   orders_cummulative_b  revenue_cummulative_b  visitors_per_date_a  \\\n",
       "0                    21                 101217                  719   \n",
       "1                    45                 266748                  619   \n",
       "2                    61                 380996                  507   \n",
       "3                    78                 489567                  717   \n",
       "4                   101                 581995                  756   \n",
       "5                   129                 824337                  667   \n",
       "\n",
       "   visitors_per_date_b  visitors_cummulative_a  visitors_cummulative_b  \n",
       "0                  713                     719                     713  \n",
       "1                  581                    1338                    1294  \n",
       "2                  509                    1845                    1803  \n",
       "3                  770                    2562                    2573  \n",
       "4                  707                    3318                    3280  \n",
       "5                  655                    3985                    3935  "
      ]
     },
     "execution_count": 31,
     "metadata": {},
     "output_type": "execute_result"
    }
   ],
   "source": [
    "visitors_daily_a = visitors[visitors['group'] == 'A'][['date', 'visitors']]\n",
    "visitors_daily_a.columns = ['date', 'visitors_per_date_a']\n",
    "\n",
    "visitors_cummulative_a = visitors_daily_a.apply(\n",
    "    lambda x: visitors_daily_a[visitors_daily_a['date'] <= x['date']].agg(\n",
    "        {'date': 'max', 'visitors_per_date_a': 'sum'}\n",
    "    ),\n",
    "    axis=1,\n",
    ")\n",
    "visitors_cummulative_a.columns = ['date', 'visitors_cummulative_a']\n",
    "\n",
    "visitors_daily_b = visitors[visitors['group'] == 'B'][['date', 'visitors']]\n",
    "visitors_daily_b.columns = ['date', 'visitors_per_date_b']\n",
    "\n",
    "visitors_cummulative_b = visitors_daily_b.apply(\n",
    "    lambda x: visitors_daily_b[visitors_daily_b['date'] <= x['date']].agg(\n",
    "        {'date': 'max', 'visitors_per_date_b': 'sum'}\n",
    "    ),\n",
    "    axis=1,\n",
    ")\n",
    "visitors_cummulative_b.columns = ['date', 'visitors_cummulative_b']\n",
    "\n",
    "orders_daily_a = (\n",
    "    orders[orders['group'] == 'A'][['date', 'transaction_id', 'visitor_id', 'revenue']]\n",
    "    .groupby('date', as_index=False)\n",
    "    .agg({'transaction_id': pd.Series.nunique, 'revenue': 'sum'})\n",
    ")\n",
    "orders_daily_a.columns = ['date', 'orders_daily_a', 'revenue_per_date_a']\n",
    "\n",
    "orders_cummulative_a = orders_daily_a.apply(\n",
    "    lambda x: orders_daily_a[orders_daily_a['date'] <= x['date']].agg(\n",
    "        {'date': 'max', 'orders_daily_a': 'sum', 'revenue_per_date_a': 'sum'}\n",
    "    ),\n",
    "    axis=1,\n",
    ").sort_values(by=['date'])\n",
    "\n",
    "orders_cummulative_a.columns = ['date','orders_cummulative_a','revenue_cummulative_a']\n",
    "\n",
    "orders_daily_b = (\n",
    "    orders[orders['group'] == 'B'][['date', 'transaction_id', 'visitor_id', 'revenue']]\n",
    "    .groupby('date', as_index=False)\n",
    "    .agg({'transaction_id': pd.Series.nunique, 'revenue': 'sum'})\n",
    ")\n",
    "orders_daily_b.columns = ['date', 'orders_daily_b', 'revenue_per_date_b']\n",
    "\n",
    "orders_cummulative_b = orders_daily_b.apply(\n",
    "    lambda x: orders_daily_b[orders_daily_b['date'] <= x['date']].agg(\n",
    "        {'date': 'max', 'orders_daily_b': 'sum', 'revenue_per_date_b': 'sum'}\n",
    "    ),\n",
    "    axis=1,\n",
    ").sort_values(by=['date'])\n",
    "\n",
    "orders_cummulative_b.columns = ['date','orders_cummulative_b','revenue_cummulative_b']\n",
    "\n",
    "\n",
    "data = (\n",
    "    orders_daily_a.merge(\n",
    "        orders_daily_b, left_on='date', right_on='date', how='left'\n",
    "    )\n",
    "    .merge(orders_cummulative_a, left_on='date', right_on='date', how='left')\n",
    "    .merge(orders_cummulative_b, left_on='date', right_on='date', how='left')\n",
    "    .merge(visitors_daily_a, left_on='date', right_on='date', how='left')\n",
    "    .merge(visitors_daily_b, left_on='date', right_on='date', how='left')\n",
    "    .merge(visitors_cummulative_a, left_on='date', right_on='date', how='left')\n",
    "    .merge(visitors_cummulative_b, left_on='date', right_on='date', how='left')\n",
    ")\n",
    "\n",
    "data.head(6)"
   ]
  },
  {
   "cell_type": "markdown",
   "metadata": {},
   "source": [
    "**У нас получилсь следующая таблица:**\n",
    "\n",
    "- date — дата;\n",
    "- orders_daily_a — количество заказов в выбранную дату в группе A;\n",
    "- revenue_per_date_a — суммарная выручка в выбранную дату в группе A;\n",
    "- orders_daily_a — количество заказов в выбранную дату в группе B;\n",
    "- revenue_per_date_a — суммарная выручка в выбранную дату в группе B;\n",
    "- orders_cummulative_a — суммарное число заказов до выбранной даты включительно в группе A;\n",
    "- revenue_cummulative_a — суммарная выручка до выбранной даты включительно в группе A;\n",
    "- orders_cummulative_b — суммарное количество заказов до выбранной даты включительно в группе B;\n",
    "- revenue_cummulative_b — суммарная выручка до выбранной даты включительно в группе B;\n",
    "- visitors_per_date_a — количество пользователей в выбранную дату в группе A;\n",
    "- visitors_per_date_b — количество пользователей в выбранную дату в группе B;\n",
    "- visitors_cummulative_a — количество пользователей до выбранной даты включительно в группе A;\n",
    "- visitors_cummulative_b — количество пользователей до выбранной даты включительно в группе B ."
   ]
  },
  {
   "cell_type": "markdown",
   "metadata": {},
   "source": [
    "**Создадим переменные orders_by_users_a и orders_by_users_a; в них для пользователей, которые заказывали хотя бы 1 раз, укажем число совершённых заказов.**"
   ]
  },
  {
   "cell_type": "code",
   "execution_count": 32,
   "metadata": {},
   "outputs": [],
   "source": [
    "orders_by_users_a = (\n",
    "    orders[orders['group'] == 'A']\n",
    "    .groupby('visitor_id', as_index=False)\n",
    "    .agg({'transaction_id': pd.Series.nunique})\n",
    ")\n",
    "orders_by_users_a.columns = ['visitor_id', 'orders']\n",
    "\n",
    "orders_by_users_b = (\n",
    "    orders[orders['group'] == 'B']\n",
    "    .groupby('visitor_id', as_index=False)\n",
    "    .agg({'transaction_id': pd.Series.nunique})\n",
    ")\n",
    "orders_by_users_b.columns = ['visitor_id', 'orders']"
   ]
  },
  {
   "cell_type": "markdown",
   "metadata": {},
   "source": [
    "**Объявим переменные sample_a и sample_b, в которых пользователям из разных групп будет соответствовать количество заказов. Тем, кто ничего не заказал, будут соответствовать нули. Это нужно, чтобы подготовить выборки к проверке критерием Манна-Уитни.**"
   ]
  },
  {
   "cell_type": "code",
   "execution_count": 33,
   "metadata": {},
   "outputs": [],
   "source": [
    "sample_a = pd.concat([orders_by_users_a['orders'],\n",
    "                      pd.Series(\n",
    "                          0, \n",
    "                          index=np.arange(data['visitors_per_date_a'].sum() - \n",
    "                                          len(orders_by_users_a['orders'])), \n",
    "                          name='orders')],axis=0\n",
    "                    )\n",
    "\n",
    "sample_b = pd.concat([orders_by_users_b['orders'],\n",
    "                      pd.Series(\n",
    "                          0, \n",
    "                          index=np.arange(data['visitors_per_date_b'].sum() - \n",
    "                                          len(orders_by_users_b['orders'])), \n",
    "                          name='orders')],axis=0\n",
    "                    )"
   ]
  },
  {
   "cell_type": "markdown",
   "metadata": {},
   "source": [
    "Задаем функцию, в которой:\n",
    "\n",
    "- Задаём уровень значимости alpha=0.05;\n",
    "- Применим критерий Манна-Уитни;\n",
    "- Отформатируем p-value, округлив его до трёх знаков после запятой;\n",
    "- Выведем относительный прирост среднего числа заказов группы B: среднее число заказов группы B / среднее число заказов группы A - 1, округлив до трёх знаков после запятой."
   ]
  },
  {
   "cell_type": "code",
   "execution_count": 34,
   "metadata": {},
   "outputs": [],
   "source": [
    "# Функция для проверки гипотезы о равенстве групп data A и data B\n",
    "def stat_significance(data_a, data_b):\n",
    "    alpha = 0.05\n",
    "    p_value = stats.mannwhitneyu(data_a, data_b)[1]\n",
    "    print(\"P-value: {0:.3f}\".format(p_value))\n",
    "\n",
    "    if (p_value < alpha):\n",
    "        print(\"Отвергаем нулевую гипотезу: между группами есть разница\")\n",
    "    else:\n",
    "        print(\"Не получилось отвергнуть нулевую гипотезу, нет оснований считать группы разными\")\n",
    "    \n",
    "    print(\"Относительный прирост В к А: {0:.3%}\".format(data_b.mean() / data_a.mean()-1))"
   ]
  },
  {
   "cell_type": "code",
   "execution_count": 35,
   "metadata": {},
   "outputs": [
    {
     "name": "stdout",
     "output_type": "stream",
     "text": [
      "P-value: 0.017\n",
      "Отвергаем нулевую гипотезу: между группами есть разница\n",
      "Относительный прирост В к А: 13.808%\n"
     ]
    }
   ],
   "source": [
    "stat_significance(sample_a, sample_b)"
   ]
  },
  {
   "cell_type": "markdown",
   "metadata": {},
   "source": [
    "**По неочищенным данным различия в среднем количестве заказов между группами есть.\n",
    "P-value = 0.017 меньше 0.05. Значит, нулевую гипотезу о том, что статистически значимых различий в среднем количестве заказов между группами нет, отвергаем. Относительный выигрыш группы B равен 13.808%.**"
   ]
  },
  {
   "cell_type": "markdown",
   "metadata": {},
   "source": [
    "#### Посчитаем статистическую значимость различий в среднем чеке заказа между группами по «сырым» данным. "
   ]
  },
  {
   "cell_type": "markdown",
   "metadata": {},
   "source": [
    "**Посчитаем статистическую значимость различий в среднем чеке между группами по «сырым» данным — без удаления аномальных пользователей.**\n",
    "\n",
    "**Введем основную и альтернативную гипотезы:**\n",
    "- H0: различий в среднем чеке между группами нет;\n",
    "- H1: различия в среднем чеке между группами есть.\n",
    "\n",
    "**Уровень значимости α = 0.05.**\n",
    "\n",
    "**Чтобы рассчитать статистическую значимость различий в среднем чеке, передадим критерию mannwhitneyu() данные о выручке с заказов. А ещё найдём относительные различия в среднем чеке между группами.**"
   ]
  },
  {
   "cell_type": "code",
   "execution_count": 36,
   "metadata": {},
   "outputs": [
    {
     "name": "stdout",
     "output_type": "stream",
     "text": [
      "P-value: 0.729\n",
      "Не получилось отвергнуть нулевую гипотезу, нет оснований считать группы разными\n",
      "Относительный прирост В к А: 25.871%\n"
     ]
    }
   ],
   "source": [
    "stat_significance(orders[orders['group']=='A']['revenue'], orders[orders['group']=='B']['revenue'])"
   ]
  },
  {
   "cell_type": "markdown",
   "metadata": {},
   "source": [
    "**P-value значительно больше 0.05. Значит, причин отвергать нулевую гипотезу и считать, что в среднем чеке есть различия, нет. Впрочем, средний чек группы B значительно выше среднего чека группы A.**"
   ]
  },
  {
   "cell_type": "markdown",
   "metadata": {},
   "source": [
    "#### Посчитаем статистическую значимость различий в среднем количестве заказов на посетителя между группами по «очищенным» данным."
   ]
  },
  {
   "cell_type": "markdown",
   "metadata": {},
   "source": [
    "**Примем за аномальных пользователей тех, кто совершил от 5 заказов или совершил заказ дороже 58233. Так мы уберём 1% пользователей с наибольшим числом заказов и от 1% пользователей с дорогими заказами. Сделаем срезы пользователей с числом заказов больше 4 — users_with_many_orders и пользователей, совершивших заказы дороже 58233.2 — users_with_expensive_orders. Объединим их в таблице abnormal_users.\n",
    "Узнаем, сколько всего аномальных пользователей методом shape().**"
   ]
  },
  {
   "cell_type": "code",
   "execution_count": 37,
   "metadata": {},
   "outputs": [
    {
     "data": {
      "text/plain": [
       "1099     148427295\n",
       "949      887908475\n",
       "744      888512513\n",
       "1103    1164614297\n",
       "1136    1307669133\n",
       "Name: visitor_id, dtype: int64"
      ]
     },
     "metadata": {},
     "output_type": "display_data"
    },
    {
     "data": {
      "text/plain": [
       "15"
      ]
     },
     "execution_count": 37,
     "metadata": {},
     "output_type": "execute_result"
    }
   ],
   "source": [
    "many_orders = np.percentile(orders_by_users['orders'], 99)\n",
    "expensive_orders = np.percentile(orders['revenue'], 99)\n",
    "\n",
    "\n",
    "users_with_many_orders = pd.concat(\n",
    "    [\n",
    "        orders_by_users_a[orders_by_users_a['orders'] > many_orders]['visitor_id'],\n",
    "        orders_by_users_b[orders_by_users_b['orders'] > many_orders]['visitor_id'],\n",
    "    ],\n",
    "    axis=0,\n",
    ")\n",
    "\n",
    "\n",
    "users_with_expensive_orders = orders[orders['revenue'] > expensive_orders]['visitor_id']\n",
    "\n",
    "\n",
    "abnormal_users = (\n",
    "    pd.concat([users_with_many_orders, users_with_expensive_orders], axis=0)\n",
    "    .drop_duplicates()\n",
    "    .sort_values()\n",
    ")\n",
    "display(abnormal_users.head(5))\n",
    "abnormal_users.shape[0]"
   ]
  },
  {
   "cell_type": "markdown",
   "metadata": {},
   "source": [
    "**Всего 15 аномальных пользователей.\n",
    "Узнаем, как их действия повлияли на результаты теста. Посчитаем статистическую значимость различий в среднем количестве заказов по очищенным данным. Сначала подготовим выборки количества заказов по пользователям по группам теста.**"
   ]
  },
  {
   "cell_type": "code",
   "execution_count": 38,
   "metadata": {},
   "outputs": [],
   "source": [
    "sample_a_filtered = pd.concat(\n",
    "    [\n",
    "        orders_by_users_a[\n",
    "            np.logical_not(orders_by_users_a['visitor_id'].isin(abnormal_users))\n",
    "        ]['orders'],\n",
    "        pd.Series(\n",
    "            0,\n",
    "            index=np.arange(\n",
    "                data['visitors_per_date_a'].sum() - len(orders_by_users_a['orders'])\n",
    "            ),\n",
    "            name='orders',\n",
    "        ),\n",
    "    ],\n",
    "    axis=0,\n",
    ")\n",
    "\n",
    "sample_b_filtered = pd.concat(\n",
    "    [\n",
    "        orders_by_users_b[\n",
    "            np.logical_not(orders_by_users_b['visitor_id'].isin(abnormal_users))\n",
    "        ]['orders'],\n",
    "        pd.Series(\n",
    "            0,\n",
    "            index=np.arange(\n",
    "                data['visitors_per_date_b'].sum() - len(orders_by_users_b['orders'])\n",
    "            ),\n",
    "            name='orders',\n",
    "        ),\n",
    "    ],\n",
    "    axis=0,\n",
    ")"
   ]
  },
  {
   "cell_type": "code",
   "execution_count": 39,
   "metadata": {},
   "outputs": [
    {
     "name": "stdout",
     "output_type": "stream",
     "text": [
      "P-value: 0.014\n",
      "Отвергаем нулевую гипотезу: между группами есть разница\n",
      "Относительный прирост В к А: 15.331%\n"
     ]
    }
   ],
   "source": [
    "stat_significance(sample_a_filtered, sample_b_filtered)"
   ]
  },
  {
   "cell_type": "markdown",
   "metadata": {},
   "source": [
    "**На очищенных данных разница в среднем количестве заказов между группами есть, а относительный прирост группы В относительно группы А увеличился на 15.331%.**"
   ]
  },
  {
   "cell_type": "markdown",
   "metadata": {},
   "source": [
    "#### Посчитаем статистическую значимость различий в среднем чеке заказа между группами по «очищенным» данным. "
   ]
  },
  {
   "cell_type": "code",
   "execution_count": 40,
   "metadata": {},
   "outputs": [
    {
     "name": "stdout",
     "output_type": "stream",
     "text": [
      "P-value: 0.851\n",
      "Не получилось отвергнуть нулевую гипотезу, нет оснований считать группы разными\n",
      "Относительный прирост В к А: -0.575%\n"
     ]
    }
   ],
   "source": [
    "stat_significance(\n",
    "    orders[(orders['group']=='A') & np.logical_not(orders['visitor_id'].isin(abnormal_users))]['revenue'], \n",
    "    orders[(orders['group']=='B') & np.logical_not(orders['visitor_id'].isin(abnormal_users))]['revenue']\n",
    ")"
   ]
  },
  {
   "cell_type": "markdown",
   "metadata": {},
   "source": [
    "**P-value больше 0.05. Следовательно, причин отвергать нулевую гипотезу и считать, что в среднем чеке есть различия, нет. По разнице средних чеков групп различий практически нет.**"
   ]
  },
  {
   "cell_type": "markdown",
   "metadata": {},
   "source": [
    "### Вывод."
   ]
  },
  {
   "cell_type": "markdown",
   "metadata": {},
   "source": [
    "**На основании входных данных, предоставленных интернет-магазином был проведено исследование и сделаны следующие выводы:**\n",
    "\n",
    "**1. В части приоритизации, в первую очередь следует обратить внимание на гипотезы:**\n",
    " - \"Запустить акцию, дающую скидку на товар в день рождения\";\n",
    " - \"Добавить два новых канала привлечения трафика, что позволит привлекать на 30% больше пользователей\";\n",
    " - \"Добавить форму подписки на все основные страницы, чтобы собрать базу клиентов для email-рассылок\";\n",
    " - \"Показать на главной странице баннеры с актуальными акциями и распродажами, чтобы увеличить конверсию\";\n",
    " - \"Добавить блоки рекомендаций товаров на сайт интернет магазина, чтобы повысить конверсию и средний чек заказа\".\n",
    " \n",
    "**Если ранжирование гипотез должно включать в себя и охват пользователей интернет-магазина, то места необходимо распределить таким образом:**\n",
    " - \"Добавить форму подписки на все основные страницы, чтобы собрать базу клиентов для email-рассылок\";\n",
    " - \"Добавить блоки рекомендаций товаров на сайт интернет магазина, чтобы повысить конверсию и средний чек заказа\";\n",
    " - \"Добавить два новых канала привлечения трафика, что позволит привлекать на 30% больше пользователей\";\n",
    " - \"Показать на главной странице баннеры с актуальными акциями и распродажами, чтобы увеличить конверсию\";\n",
    " - \"Запустить акцию, дающую скидку на товар в день рождения\".\n",
    " \n",
    "**2. В части анализа A/B теста:**\n",
    "  \n",
    " - Куммулятивная выручка группы А растет линейно, и она меньше, чем у группы В;\n",
    " - Большинство пользователей оформляли заказ один раз, Много пользователей с 2-3 заказами, выбрали границу в 4 заказа как \"потолок\" для определения аномальных пользователей;\n",
    " - Не более 5% пользователей совершали больше 2-х покупок в течение тестирования. И только 1% - четыре и более;\n",
    " - Сначала среднее количество заказов на посетителя колебалось, но довольно быстро выровнялись. Везультат группы В выглядит более привлекательным;\n",
    " - В начале теста группа В проигрывала группе А в среднем количестве заказов на пользователя, но затем вырвалась вперед. Ее куммулятивная метрика стремительно росла, далее начался медленный спад. Под конец исследуемого периода куммулятивное количество заказов группы В снова растет;\n",
    " - Средняя стоимость заказа 8 348, максимальная 1 294 500, стоимость основной массы заказов не превышает 20000;\n",
    " - Выбрали границу по стоимости в 58233.2;\n",
    " - По неочищенным данным различия в среднем количестве заказов между группами есть. Относительный выигрыш группы B равен 13.808%;\n",
    " - Причин отвергать нулевую гипотезу и считать, что в среднем чеке есть различия, нет. Впрочем, средний чек группы B значительно выше среднего чека группы A;\n",
    " - Всего 15 аномальных пользователей;\n",
    " - На очищенных данных разница в среднем количестве заказов между группами есть, а относительный прирост группы В относительно группы А увеличился на 15.331%.\n",
    " - Причин отвергать нулевую гипотезу и считать, что в среднем чеке есть различия, нет. По разнице средних чеков групп различий практически нет.\n",
    "\n",
    "**На основании вышеизложенного рекомендую остановить тест, зафиксировав победу группы B: её результаты лучше чем у оппонентов.**"
   ]
  }
 ],
 "metadata": {
  "ExecuteTimeLog": [
   {
    "duration": 47,
    "start_time": "2024-05-12T12:28:54.777Z"
   },
   {
    "duration": 42,
    "start_time": "2024-05-12T12:29:03.901Z"
   },
   {
    "duration": 1263,
    "start_time": "2024-05-12T12:29:22.517Z"
   },
   {
    "duration": 1083,
    "start_time": "2024-05-12T12:32:07.922Z"
   },
   {
    "duration": 3,
    "start_time": "2024-05-12T12:32:49.635Z"
   },
   {
    "duration": 225,
    "start_time": "2024-05-12T12:34:19.285Z"
   },
   {
    "duration": 4,
    "start_time": "2024-05-12T12:34:47.543Z"
   },
   {
    "duration": 55,
    "start_time": "2024-05-12T12:35:10.387Z"
   },
   {
    "duration": 36,
    "start_time": "2024-05-12T12:37:55.054Z"
   },
   {
    "duration": 45,
    "start_time": "2024-05-12T12:38:40.404Z"
   },
   {
    "duration": 48,
    "start_time": "2024-05-12T12:38:43.653Z"
   },
   {
    "duration": 28,
    "start_time": "2024-05-12T12:39:42.550Z"
   },
   {
    "duration": 32,
    "start_time": "2024-05-12T12:39:46.276Z"
   },
   {
    "duration": 4,
    "start_time": "2024-05-12T12:42:53.145Z"
   },
   {
    "duration": 39,
    "start_time": "2024-05-12T12:42:55.191Z"
   },
   {
    "duration": 38,
    "start_time": "2024-05-12T12:42:57.979Z"
   },
   {
    "duration": 43,
    "start_time": "2024-05-12T12:42:59.757Z"
   },
   {
    "duration": 40,
    "start_time": "2024-05-12T12:43:03.468Z"
   },
   {
    "duration": 30,
    "start_time": "2024-05-12T12:43:08.001Z"
   },
   {
    "duration": 31,
    "start_time": "2024-05-12T12:43:11.077Z"
   },
   {
    "duration": 21,
    "start_time": "2024-05-12T12:51:34.580Z"
   },
   {
    "duration": 11,
    "start_time": "2024-05-12T12:54:33.722Z"
   },
   {
    "duration": 112,
    "start_time": "2024-05-12T13:02:42.286Z"
   },
   {
    "duration": 2,
    "start_time": "2024-05-12T13:03:36.599Z"
   },
   {
    "duration": 14,
    "start_time": "2024-05-12T13:03:36.603Z"
   },
   {
    "duration": 77,
    "start_time": "2024-05-12T13:03:36.618Z"
   },
   {
    "duration": 5,
    "start_time": "2024-05-12T13:03:36.697Z"
   },
   {
    "duration": 1160,
    "start_time": "2024-05-12T13:03:46.064Z"
   },
   {
    "duration": 4,
    "start_time": "2024-05-12T13:03:47.226Z"
   },
   {
    "duration": 91,
    "start_time": "2024-05-12T13:03:47.231Z"
   },
   {
    "duration": 5,
    "start_time": "2024-05-12T13:03:47.324Z"
   },
   {
    "duration": 56,
    "start_time": "2024-05-12T13:03:47.330Z"
   },
   {
    "duration": 41,
    "start_time": "2024-05-12T13:03:47.388Z"
   },
   {
    "duration": 39,
    "start_time": "2024-05-12T13:04:05.316Z"
   },
   {
    "duration": 29,
    "start_time": "2024-05-12T13:04:28.194Z"
   },
   {
    "duration": 28,
    "start_time": "2024-05-12T13:04:30.406Z"
   },
   {
    "duration": 1180,
    "start_time": "2024-05-12T13:07:05.271Z"
   },
   {
    "duration": 3,
    "start_time": "2024-05-12T13:07:06.453Z"
   },
   {
    "duration": 77,
    "start_time": "2024-05-12T13:07:06.458Z"
   },
   {
    "duration": 5,
    "start_time": "2024-05-12T13:07:06.536Z"
   },
   {
    "duration": 79,
    "start_time": "2024-05-12T13:07:06.543Z"
   },
   {
    "duration": 69,
    "start_time": "2024-05-12T13:07:06.624Z"
   },
   {
    "duration": 2,
    "start_time": "2024-05-12T13:07:06.695Z"
   },
   {
    "duration": 31,
    "start_time": "2024-05-12T13:07:06.699Z"
   },
   {
    "duration": 37,
    "start_time": "2024-05-12T13:07:06.732Z"
   },
   {
    "duration": 10,
    "start_time": "2024-05-12T13:07:06.771Z"
   },
   {
    "duration": 173,
    "start_time": "2024-05-12T13:07:09.758Z"
   },
   {
    "duration": 125,
    "start_time": "2024-05-12T13:07:49.164Z"
   },
   {
    "duration": 45,
    "start_time": "2024-05-12T13:08:54.280Z"
   },
   {
    "duration": 40,
    "start_time": "2024-05-12T13:09:02.668Z"
   },
   {
    "duration": 89,
    "start_time": "2024-05-12T13:09:42.069Z"
   },
   {
    "duration": 8,
    "start_time": "2024-05-12T13:09:49.369Z"
   },
   {
    "duration": 28,
    "start_time": "2024-05-12T13:09:58.077Z"
   },
   {
    "duration": 1073,
    "start_time": "2024-05-12T13:10:13.792Z"
   },
   {
    "duration": 4,
    "start_time": "2024-05-12T13:10:14.866Z"
   },
   {
    "duration": 83,
    "start_time": "2024-05-12T13:10:14.871Z"
   },
   {
    "duration": 92,
    "start_time": "2024-05-12T13:10:30.470Z"
   },
   {
    "duration": 3,
    "start_time": "2024-05-12T13:11:42.101Z"
   },
   {
    "duration": 14,
    "start_time": "2024-05-12T13:11:42.105Z"
   },
   {
    "duration": 86,
    "start_time": "2024-05-12T13:11:42.120Z"
   },
   {
    "duration": 4,
    "start_time": "2024-05-12T13:11:42.208Z"
   },
   {
    "duration": 56,
    "start_time": "2024-05-12T13:11:42.214Z"
   },
   {
    "duration": 42,
    "start_time": "2024-05-12T13:11:42.272Z"
   },
   {
    "duration": 3,
    "start_time": "2024-05-12T13:11:42.316Z"
   },
   {
    "duration": 68,
    "start_time": "2024-05-12T13:11:42.320Z"
   },
   {
    "duration": 10,
    "start_time": "2024-05-12T13:11:42.389Z"
   },
   {
    "duration": 0,
    "start_time": "2024-05-12T13:11:42.400Z"
   },
   {
    "duration": 0,
    "start_time": "2024-05-12T13:11:42.401Z"
   },
   {
    "duration": 0,
    "start_time": "2024-05-12T13:11:42.403Z"
   },
   {
    "duration": 0,
    "start_time": "2024-05-12T13:11:42.404Z"
   },
   {
    "duration": 10,
    "start_time": "2024-05-12T13:11:57.884Z"
   },
   {
    "duration": 9,
    "start_time": "2024-05-12T13:12:00.782Z"
   },
   {
    "duration": 156,
    "start_time": "2024-05-12T13:12:03.012Z"
   },
   {
    "duration": 119,
    "start_time": "2024-05-12T13:12:05.138Z"
   },
   {
    "duration": 7,
    "start_time": "2024-05-12T13:16:43.779Z"
   },
   {
    "duration": 11,
    "start_time": "2024-05-12T13:17:07.839Z"
   },
   {
    "duration": 346,
    "start_time": "2024-05-12T13:18:49.883Z"
   },
   {
    "duration": 5,
    "start_time": "2024-05-12T13:19:49.247Z"
   },
   {
    "duration": 45,
    "start_time": "2024-05-12T13:23:11.809Z"
   },
   {
    "duration": 4,
    "start_time": "2024-05-12T13:24:12.942Z"
   },
   {
    "duration": 4,
    "start_time": "2024-05-12T13:24:35.123Z"
   },
   {
    "duration": 243,
    "start_time": "2024-05-12T13:45:20.110Z"
   },
   {
    "duration": 357,
    "start_time": "2024-05-12T13:47:48.525Z"
   },
   {
    "duration": 161,
    "start_time": "2024-05-12T13:57:49.352Z"
   },
   {
    "duration": 148,
    "start_time": "2024-05-12T13:58:54.487Z"
   },
   {
    "duration": 5,
    "start_time": "2024-05-12T14:00:34.280Z"
   },
   {
    "duration": 193,
    "start_time": "2024-05-12T14:03:44.848Z"
   },
   {
    "duration": 168,
    "start_time": "2024-05-12T14:03:53.272Z"
   },
   {
    "duration": 5,
    "start_time": "2024-05-12T14:09:29.494Z"
   },
   {
    "duration": 12,
    "start_time": "2024-05-12T14:09:33.102Z"
   },
   {
    "duration": 7,
    "start_time": "2024-05-12T14:09:36.756Z"
   },
   {
    "duration": 1060,
    "start_time": "2024-05-12T14:10:09.921Z"
   },
   {
    "duration": 5,
    "start_time": "2024-05-12T14:10:10.983Z"
   },
   {
    "duration": 82,
    "start_time": "2024-05-12T14:10:10.990Z"
   },
   {
    "duration": 4,
    "start_time": "2024-05-12T14:10:11.073Z"
   },
   {
    "duration": 58,
    "start_time": "2024-05-12T14:10:11.079Z"
   },
   {
    "duration": 56,
    "start_time": "2024-05-12T14:10:11.139Z"
   },
   {
    "duration": 3,
    "start_time": "2024-05-12T14:10:11.197Z"
   },
   {
    "duration": 76,
    "start_time": "2024-05-12T14:10:11.201Z"
   },
   {
    "duration": 9,
    "start_time": "2024-05-12T14:10:11.279Z"
   },
   {
    "duration": 8,
    "start_time": "2024-05-12T14:10:11.290Z"
   },
   {
    "duration": 179,
    "start_time": "2024-05-12T14:10:11.300Z"
   },
   {
    "duration": 121,
    "start_time": "2024-05-12T14:10:11.480Z"
   },
   {
    "duration": 5,
    "start_time": "2024-05-12T14:10:11.603Z"
   },
   {
    "duration": 29,
    "start_time": "2024-05-12T14:10:11.611Z"
   },
   {
    "duration": 345,
    "start_time": "2024-05-12T14:10:11.641Z"
   },
   {
    "duration": 266,
    "start_time": "2024-05-12T14:10:11.988Z"
   },
   {
    "duration": 373,
    "start_time": "2024-05-12T14:10:12.255Z"
   },
   {
    "duration": 171,
    "start_time": "2024-05-12T14:10:12.630Z"
   },
   {
    "duration": 148,
    "start_time": "2024-05-12T14:10:12.803Z"
   },
   {
    "duration": 15,
    "start_time": "2024-05-12T14:10:12.953Z"
   },
   {
    "duration": 107,
    "start_time": "2024-05-12T14:10:35.376Z"
   },
   {
    "duration": 8,
    "start_time": "2024-05-12T14:10:48.545Z"
   },
   {
    "duration": 4,
    "start_time": "2024-05-12T14:10:58.294Z"
   },
   {
    "duration": 9,
    "start_time": "2024-05-12T14:10:59.822Z"
   },
   {
    "duration": 7,
    "start_time": "2024-05-12T14:11:14.132Z"
   },
   {
    "duration": 1050,
    "start_time": "2024-05-12T14:13:04.223Z"
   },
   {
    "duration": 4,
    "start_time": "2024-05-12T14:13:05.275Z"
   },
   {
    "duration": 77,
    "start_time": "2024-05-12T14:13:05.280Z"
   },
   {
    "duration": 5,
    "start_time": "2024-05-12T14:13:05.359Z"
   },
   {
    "duration": 54,
    "start_time": "2024-05-12T14:13:05.365Z"
   },
   {
    "duration": 62,
    "start_time": "2024-05-12T14:13:05.420Z"
   },
   {
    "duration": 3,
    "start_time": "2024-05-12T14:13:05.483Z"
   },
   {
    "duration": 28,
    "start_time": "2024-05-12T14:13:05.488Z"
   },
   {
    "duration": 10,
    "start_time": "2024-05-12T14:13:05.517Z"
   },
   {
    "duration": 43,
    "start_time": "2024-05-12T14:13:05.528Z"
   },
   {
    "duration": 190,
    "start_time": "2024-05-12T14:13:05.572Z"
   },
   {
    "duration": 144,
    "start_time": "2024-05-12T14:13:05.764Z"
   },
   {
    "duration": 7,
    "start_time": "2024-05-12T14:13:05.909Z"
   },
   {
    "duration": 24,
    "start_time": "2024-05-12T14:13:05.917Z"
   },
   {
    "duration": 374,
    "start_time": "2024-05-12T14:13:05.942Z"
   },
   {
    "duration": 263,
    "start_time": "2024-05-12T14:13:06.318Z"
   },
   {
    "duration": 351,
    "start_time": "2024-05-12T14:13:06.583Z"
   },
   {
    "duration": 163,
    "start_time": "2024-05-12T14:13:06.935Z"
   },
   {
    "duration": 147,
    "start_time": "2024-05-12T14:13:07.100Z"
   },
   {
    "duration": 5,
    "start_time": "2024-05-12T14:13:07.248Z"
   },
   {
    "duration": 9,
    "start_time": "2024-05-12T14:13:22.142Z"
   },
   {
    "duration": 4,
    "start_time": "2024-05-12T14:14:16.557Z"
   },
   {
    "duration": 8,
    "start_time": "2024-05-12T14:14:18.494Z"
   },
   {
    "duration": 179,
    "start_time": "2024-05-12T14:19:31.291Z"
   },
   {
    "duration": 157,
    "start_time": "2024-05-12T14:20:11.230Z"
   },
   {
    "duration": 263,
    "start_time": "2024-05-12T14:21:58.867Z"
   },
   {
    "duration": 177,
    "start_time": "2024-05-12T14:22:01.917Z"
   },
   {
    "duration": 146,
    "start_time": "2024-05-12T14:22:13.405Z"
   },
   {
    "duration": 4,
    "start_time": "2024-05-12T14:23:56.412Z"
   },
   {
    "duration": 98,
    "start_time": "2024-05-12T14:43:02.096Z"
   },
   {
    "duration": 13,
    "start_time": "2024-05-12T14:56:30.168Z"
   },
   {
    "duration": 24,
    "start_time": "2024-05-12T14:57:48.259Z"
   },
   {
    "duration": 23,
    "start_time": "2024-05-12T14:58:18.547Z"
   },
   {
    "duration": 15,
    "start_time": "2024-05-12T14:59:03.720Z"
   },
   {
    "duration": 12,
    "start_time": "2024-05-12T14:59:48.185Z"
   },
   {
    "duration": 918,
    "start_time": "2024-05-12T15:05:35.663Z"
   },
   {
    "duration": 152,
    "start_time": "2024-05-12T15:08:27.827Z"
   },
   {
    "duration": 132,
    "start_time": "2024-05-12T15:08:50.464Z"
   },
   {
    "duration": 670,
    "start_time": "2024-05-12T15:09:13.877Z"
   },
   {
    "duration": 14,
    "start_time": "2024-05-12T15:09:58.479Z"
   },
   {
    "duration": 6,
    "start_time": "2024-05-12T15:11:58.593Z"
   },
   {
    "duration": 13,
    "start_time": "2024-05-12T15:12:03.269Z"
   },
   {
    "duration": 1076,
    "start_time": "2024-05-12T15:12:26.479Z"
   },
   {
    "duration": 5,
    "start_time": "2024-05-12T15:12:27.556Z"
   },
   {
    "duration": 88,
    "start_time": "2024-05-12T15:12:27.562Z"
   },
   {
    "duration": 5,
    "start_time": "2024-05-12T15:12:27.651Z"
   },
   {
    "duration": 54,
    "start_time": "2024-05-12T15:12:27.659Z"
   },
   {
    "duration": 75,
    "start_time": "2024-05-12T15:12:27.714Z"
   },
   {
    "duration": 4,
    "start_time": "2024-05-12T15:12:27.791Z"
   },
   {
    "duration": 28,
    "start_time": "2024-05-12T15:12:27.797Z"
   },
   {
    "duration": 50,
    "start_time": "2024-05-12T15:12:27.827Z"
   },
   {
    "duration": 16,
    "start_time": "2024-05-12T15:12:27.880Z"
   },
   {
    "duration": 195,
    "start_time": "2024-05-12T15:12:27.899Z"
   },
   {
    "duration": 125,
    "start_time": "2024-05-12T15:12:28.095Z"
   },
   {
    "duration": 7,
    "start_time": "2024-05-12T15:12:28.221Z"
   },
   {
    "duration": 19,
    "start_time": "2024-05-12T15:12:28.230Z"
   },
   {
    "duration": 363,
    "start_time": "2024-05-12T15:12:28.250Z"
   },
   {
    "duration": 267,
    "start_time": "2024-05-12T15:12:28.614Z"
   },
   {
    "duration": 376,
    "start_time": "2024-05-12T15:12:28.882Z"
   },
   {
    "duration": 12,
    "start_time": "2024-05-12T15:12:29.264Z"
   },
   {
    "duration": 166,
    "start_time": "2024-05-12T15:12:35.340Z"
   },
   {
    "duration": 121,
    "start_time": "2024-05-12T15:12:36.870Z"
   },
   {
    "duration": 23,
    "start_time": "2024-05-12T15:12:38.600Z"
   },
   {
    "duration": 762,
    "start_time": "2024-05-12T15:13:34.416Z"
   },
   {
    "duration": 1152,
    "start_time": "2024-05-12T15:13:58.775Z"
   },
   {
    "duration": 5,
    "start_time": "2024-05-12T15:13:59.930Z"
   },
   {
    "duration": 84,
    "start_time": "2024-05-12T15:13:59.937Z"
   },
   {
    "duration": 7,
    "start_time": "2024-05-12T15:14:00.024Z"
   },
   {
    "duration": 90,
    "start_time": "2024-05-12T15:14:00.032Z"
   },
   {
    "duration": 83,
    "start_time": "2024-05-12T15:14:00.124Z"
   },
   {
    "duration": 4,
    "start_time": "2024-05-12T15:14:00.208Z"
   },
   {
    "duration": 74,
    "start_time": "2024-05-12T15:14:00.213Z"
   },
   {
    "duration": 70,
    "start_time": "2024-05-12T15:14:00.288Z"
   },
   {
    "duration": 69,
    "start_time": "2024-05-12T15:14:00.360Z"
   },
   {
    "duration": 223,
    "start_time": "2024-05-12T15:14:00.431Z"
   },
   {
    "duration": 133,
    "start_time": "2024-05-12T15:14:00.656Z"
   },
   {
    "duration": 35,
    "start_time": "2024-05-12T15:14:00.791Z"
   },
   {
    "duration": 35,
    "start_time": "2024-05-12T15:14:00.828Z"
   },
   {
    "duration": 144,
    "start_time": "2024-05-12T15:14:18.040Z"
   },
   {
    "duration": 114,
    "start_time": "2024-05-12T15:14:30.960Z"
   },
   {
    "duration": 15,
    "start_time": "2024-05-12T15:14:32.169Z"
   },
   {
    "duration": 4,
    "start_time": "2024-05-12T15:14:45.788Z"
   },
   {
    "duration": 35,
    "start_time": "2024-05-12T15:14:45.794Z"
   },
   {
    "duration": 79,
    "start_time": "2024-05-12T15:14:45.831Z"
   },
   {
    "duration": 4,
    "start_time": "2024-05-12T15:14:45.911Z"
   },
   {
    "duration": 49,
    "start_time": "2024-05-12T15:14:45.918Z"
   },
   {
    "duration": 40,
    "start_time": "2024-05-12T15:14:45.969Z"
   },
   {
    "duration": 3,
    "start_time": "2024-05-12T15:14:46.011Z"
   },
   {
    "duration": 64,
    "start_time": "2024-05-12T15:14:46.015Z"
   },
   {
    "duration": 9,
    "start_time": "2024-05-12T15:14:46.081Z"
   },
   {
    "duration": 17,
    "start_time": "2024-05-12T15:14:46.092Z"
   },
   {
    "duration": 188,
    "start_time": "2024-05-12T15:14:46.110Z"
   },
   {
    "duration": 119,
    "start_time": "2024-05-12T15:14:46.300Z"
   },
   {
    "duration": 6,
    "start_time": "2024-05-12T15:14:46.421Z"
   },
   {
    "duration": 22,
    "start_time": "2024-05-12T15:14:46.429Z"
   },
   {
    "duration": 347,
    "start_time": "2024-05-12T15:14:46.453Z"
   },
   {
    "duration": 272,
    "start_time": "2024-05-12T15:14:46.801Z"
   },
   {
    "duration": 394,
    "start_time": "2024-05-12T15:14:47.076Z"
   },
   {
    "duration": 11,
    "start_time": "2024-05-12T15:14:47.471Z"
   },
   {
    "duration": 161,
    "start_time": "2024-05-12T15:14:47.484Z"
   },
   {
    "duration": 128,
    "start_time": "2024-05-12T15:14:47.646Z"
   },
   {
    "duration": 708,
    "start_time": "2024-05-12T15:15:19.424Z"
   },
   {
    "duration": 659,
    "start_time": "2024-05-12T15:15:40.426Z"
   },
   {
    "duration": 1185,
    "start_time": "2024-05-12T15:17:14.778Z"
   },
   {
    "duration": 8,
    "start_time": "2024-05-12T15:17:15.965Z"
   },
   {
    "duration": 83,
    "start_time": "2024-05-12T15:17:15.977Z"
   },
   {
    "duration": 9,
    "start_time": "2024-05-12T15:17:16.062Z"
   },
   {
    "duration": 52,
    "start_time": "2024-05-12T15:17:16.074Z"
   },
   {
    "duration": 67,
    "start_time": "2024-05-12T15:17:16.128Z"
   },
   {
    "duration": 2,
    "start_time": "2024-05-12T15:17:16.197Z"
   },
   {
    "duration": 28,
    "start_time": "2024-05-12T15:17:16.201Z"
   },
   {
    "duration": 48,
    "start_time": "2024-05-12T15:17:16.230Z"
   },
   {
    "duration": 10,
    "start_time": "2024-05-12T15:17:16.280Z"
   },
   {
    "duration": 187,
    "start_time": "2024-05-12T15:17:16.291Z"
   },
   {
    "duration": 124,
    "start_time": "2024-05-12T15:17:16.479Z"
   },
   {
    "duration": 6,
    "start_time": "2024-05-12T15:17:16.604Z"
   },
   {
    "duration": 10,
    "start_time": "2024-05-12T15:17:16.613Z"
   },
   {
    "duration": 383,
    "start_time": "2024-05-12T15:17:16.625Z"
   },
   {
    "duration": 272,
    "start_time": "2024-05-12T15:17:17.009Z"
   },
   {
    "duration": 375,
    "start_time": "2024-05-12T15:17:17.282Z"
   },
   {
    "duration": 9,
    "start_time": "2024-05-12T15:17:26.047Z"
   },
   {
    "duration": 174,
    "start_time": "2024-05-12T15:17:42.937Z"
   },
   {
    "duration": 127,
    "start_time": "2024-05-12T15:17:45.067Z"
   },
   {
    "duration": 382,
    "start_time": "2024-05-12T15:17:47.907Z"
   },
   {
    "duration": 306,
    "start_time": "2024-05-12T15:18:02.075Z"
   },
   {
    "duration": 250,
    "start_time": "2024-05-12T15:18:43.048Z"
   },
   {
    "duration": 5,
    "start_time": "2024-05-12T15:19:40.304Z"
   },
   {
    "duration": 14,
    "start_time": "2024-05-12T15:19:47.567Z"
   },
   {
    "duration": 1150,
    "start_time": "2024-05-12T15:21:00.761Z"
   },
   {
    "duration": 4,
    "start_time": "2024-05-12T15:21:01.913Z"
   },
   {
    "duration": 106,
    "start_time": "2024-05-12T15:21:01.919Z"
   },
   {
    "duration": 5,
    "start_time": "2024-05-12T15:21:02.027Z"
   },
   {
    "duration": 85,
    "start_time": "2024-05-12T15:21:02.034Z"
   },
   {
    "duration": 67,
    "start_time": "2024-05-12T15:21:02.121Z"
   },
   {
    "duration": 13,
    "start_time": "2024-05-12T15:21:02.190Z"
   },
   {
    "duration": 70,
    "start_time": "2024-05-12T15:21:02.208Z"
   },
   {
    "duration": 12,
    "start_time": "2024-05-12T15:21:02.279Z"
   },
   {
    "duration": 78,
    "start_time": "2024-05-12T15:21:02.292Z"
   },
   {
    "duration": 201,
    "start_time": "2024-05-12T15:21:02.376Z"
   },
   {
    "duration": 140,
    "start_time": "2024-05-12T15:21:02.578Z"
   },
   {
    "duration": 6,
    "start_time": "2024-05-12T15:21:02.719Z"
   },
   {
    "duration": 17,
    "start_time": "2024-05-12T15:21:02.727Z"
   },
   {
    "duration": 398,
    "start_time": "2024-05-12T15:21:02.745Z"
   },
   {
    "duration": 249,
    "start_time": "2024-05-12T15:21:03.145Z"
   },
   {
    "duration": 341,
    "start_time": "2024-05-12T15:21:03.396Z"
   },
   {
    "duration": 23,
    "start_time": "2024-05-12T15:21:03.739Z"
   },
   {
    "duration": 559,
    "start_time": "2024-05-12T15:21:03.763Z"
   },
   {
    "duration": 512,
    "start_time": "2024-05-12T15:21:19.866Z"
   },
   {
    "duration": 508,
    "start_time": "2024-05-12T15:23:32.168Z"
   },
   {
    "duration": 474,
    "start_time": "2024-05-12T15:24:56.673Z"
   },
   {
    "duration": 328,
    "start_time": "2024-05-12T15:25:14.529Z"
   },
   {
    "duration": 412,
    "start_time": "2024-05-12T15:26:33.948Z"
   },
   {
    "duration": 412,
    "start_time": "2024-05-12T15:27:02.559Z"
   },
   {
    "duration": 377,
    "start_time": "2024-05-12T15:27:30.192Z"
   },
   {
    "duration": 366,
    "start_time": "2024-05-12T15:27:34.118Z"
   },
   {
    "duration": 398,
    "start_time": "2024-05-12T15:27:38.370Z"
   },
   {
    "duration": 374,
    "start_time": "2024-05-12T15:27:42.484Z"
   },
   {
    "duration": 1153,
    "start_time": "2024-05-12T15:31:20.031Z"
   },
   {
    "duration": 6,
    "start_time": "2024-05-12T15:31:21.186Z"
   },
   {
    "duration": 78,
    "start_time": "2024-05-12T15:31:21.193Z"
   },
   {
    "duration": 5,
    "start_time": "2024-05-12T15:31:21.273Z"
   },
   {
    "duration": 55,
    "start_time": "2024-05-12T15:31:21.279Z"
   },
   {
    "duration": 67,
    "start_time": "2024-05-12T15:31:21.336Z"
   },
   {
    "duration": 3,
    "start_time": "2024-05-12T15:31:21.405Z"
   },
   {
    "duration": 61,
    "start_time": "2024-05-12T15:31:21.409Z"
   },
   {
    "duration": 10,
    "start_time": "2024-05-12T15:31:21.472Z"
   },
   {
    "duration": 28,
    "start_time": "2024-05-12T15:31:21.484Z"
   },
   {
    "duration": 188,
    "start_time": "2024-05-12T15:31:21.514Z"
   },
   {
    "duration": 152,
    "start_time": "2024-05-12T15:31:21.704Z"
   },
   {
    "duration": 15,
    "start_time": "2024-05-12T15:31:21.857Z"
   },
   {
    "duration": 10,
    "start_time": "2024-05-12T15:31:21.874Z"
   },
   {
    "duration": 382,
    "start_time": "2024-05-12T15:31:21.886Z"
   },
   {
    "duration": 263,
    "start_time": "2024-05-12T15:31:22.270Z"
   },
   {
    "duration": 385,
    "start_time": "2024-05-12T15:31:22.534Z"
   },
   {
    "duration": 518,
    "start_time": "2024-05-12T15:31:22.920Z"
   },
   {
    "duration": 461,
    "start_time": "2024-05-12T15:31:23.440Z"
   },
   {
    "duration": 169,
    "start_time": "2024-05-12T15:31:23.902Z"
   },
   {
    "duration": 142,
    "start_time": "2024-05-12T15:31:24.072Z"
   },
   {
    "duration": 5,
    "start_time": "2024-05-12T15:31:24.215Z"
   },
   {
    "duration": 251,
    "start_time": "2024-05-12T15:31:24.221Z"
   },
   {
    "duration": 156,
    "start_time": "2024-05-12T15:31:24.474Z"
   },
   {
    "duration": 181,
    "start_time": "2024-05-12T15:31:24.632Z"
   },
   {
    "duration": 4,
    "start_time": "2024-05-12T15:31:24.815Z"
   },
   {
    "duration": 8,
    "start_time": "2024-05-12T15:41:56.277Z"
   },
   {
    "duration": 92,
    "start_time": "2024-05-12T15:42:32.147Z"
   },
   {
    "duration": 10,
    "start_time": "2024-05-12T15:42:41.721Z"
   },
   {
    "duration": 9,
    "start_time": "2024-05-12T15:42:44.943Z"
   },
   {
    "duration": 111,
    "start_time": "2024-05-12T17:42:02.478Z"
   },
   {
    "duration": 14,
    "start_time": "2024-05-12T17:44:32.578Z"
   },
   {
    "duration": 13,
    "start_time": "2024-05-12T17:45:17.749Z"
   },
   {
    "duration": 13,
    "start_time": "2024-05-12T17:45:55.725Z"
   },
   {
    "duration": 129,
    "start_time": "2024-05-12T17:46:27.098Z"
   },
   {
    "duration": 10,
    "start_time": "2024-05-12T17:47:05.529Z"
   },
   {
    "duration": 209,
    "start_time": "2024-05-12T17:50:40.850Z"
   },
   {
    "duration": 132,
    "start_time": "2024-05-12T17:54:30.274Z"
   },
   {
    "duration": 8,
    "start_time": "2024-05-12T17:56:11.075Z"
   },
   {
    "duration": 4,
    "start_time": "2024-05-12T18:07:02.373Z"
   },
   {
    "duration": 24,
    "start_time": "2024-05-12T18:07:11.439Z"
   },
   {
    "duration": 55,
    "start_time": "2024-05-13T17:55:09.152Z"
   },
   {
    "duration": 1495,
    "start_time": "2024-05-13T17:55:29.941Z"
   },
   {
    "duration": 5,
    "start_time": "2024-05-13T17:55:31.438Z"
   },
   {
    "duration": 370,
    "start_time": "2024-05-13T17:55:31.445Z"
   },
   {
    "duration": 5,
    "start_time": "2024-05-13T17:55:31.817Z"
   },
   {
    "duration": 94,
    "start_time": "2024-05-13T17:55:31.823Z"
   },
   {
    "duration": 76,
    "start_time": "2024-05-13T17:55:31.919Z"
   },
   {
    "duration": 3,
    "start_time": "2024-05-13T17:55:31.997Z"
   },
   {
    "duration": 75,
    "start_time": "2024-05-13T17:55:32.002Z"
   },
   {
    "duration": 13,
    "start_time": "2024-05-13T17:55:32.079Z"
   },
   {
    "duration": 54,
    "start_time": "2024-05-13T17:55:32.095Z"
   },
   {
    "duration": 228,
    "start_time": "2024-05-13T17:55:32.151Z"
   },
   {
    "duration": 145,
    "start_time": "2024-05-13T17:55:32.382Z"
   },
   {
    "duration": 8,
    "start_time": "2024-05-13T17:55:32.529Z"
   },
   {
    "duration": 24,
    "start_time": "2024-05-13T17:55:32.539Z"
   },
   {
    "duration": 405,
    "start_time": "2024-05-13T17:55:32.565Z"
   },
   {
    "duration": 302,
    "start_time": "2024-05-13T17:55:32.972Z"
   },
   {
    "duration": 467,
    "start_time": "2024-05-13T17:55:33.276Z"
   },
   {
    "duration": 584,
    "start_time": "2024-05-13T17:55:33.745Z"
   },
   {
    "duration": 481,
    "start_time": "2024-05-13T17:55:34.331Z"
   },
   {
    "duration": 198,
    "start_time": "2024-05-13T17:55:34.814Z"
   },
   {
    "duration": 254,
    "start_time": "2024-05-13T17:55:35.013Z"
   },
   {
    "duration": 6,
    "start_time": "2024-05-13T17:55:35.268Z"
   },
   {
    "duration": 219,
    "start_time": "2024-05-13T17:55:35.275Z"
   },
   {
    "duration": 189,
    "start_time": "2024-05-13T17:55:35.496Z"
   },
   {
    "duration": 206,
    "start_time": "2024-05-13T17:55:35.687Z"
   },
   {
    "duration": 5,
    "start_time": "2024-05-13T17:55:35.895Z"
   },
   {
    "duration": 255,
    "start_time": "2024-05-13T17:55:35.903Z"
   },
   {
    "duration": 160,
    "start_time": "2024-05-13T17:55:36.163Z"
   },
   {
    "duration": 8,
    "start_time": "2024-05-13T17:55:36.325Z"
   },
   {
    "duration": 5,
    "start_time": "2024-05-13T17:55:36.335Z"
   },
   {
    "duration": 41,
    "start_time": "2024-05-13T17:55:36.342Z"
   },
   {
    "duration": 9,
    "start_time": "2024-05-13T17:55:36.385Z"
   },
   {
    "duration": 14,
    "start_time": "2024-05-13T18:03:44.200Z"
   },
   {
    "duration": 9,
    "start_time": "2024-05-13T18:04:24.802Z"
   },
   {
    "duration": 28,
    "start_time": "2024-05-13T18:04:32.590Z"
   },
   {
    "duration": 11,
    "start_time": "2024-05-13T18:08:10.828Z"
   },
   {
    "duration": 70,
    "start_time": "2024-05-14T16:37:38.567Z"
   },
   {
    "duration": 1429,
    "start_time": "2024-05-14T16:38:13.437Z"
   },
   {
    "duration": 5,
    "start_time": "2024-05-14T16:38:14.868Z"
   },
   {
    "duration": 229,
    "start_time": "2024-05-14T16:38:14.874Z"
   },
   {
    "duration": 5,
    "start_time": "2024-05-14T16:38:15.105Z"
   },
   {
    "duration": 152,
    "start_time": "2024-05-14T16:38:15.112Z"
   },
   {
    "duration": 47,
    "start_time": "2024-05-14T16:38:15.266Z"
   },
   {
    "duration": 3,
    "start_time": "2024-05-14T16:38:15.314Z"
   },
   {
    "duration": 51,
    "start_time": "2024-05-14T16:38:15.319Z"
   },
   {
    "duration": 11,
    "start_time": "2024-05-14T16:38:15.381Z"
   },
   {
    "duration": 24,
    "start_time": "2024-05-14T16:38:15.393Z"
   },
   {
    "duration": 227,
    "start_time": "2024-05-14T16:38:15.419Z"
   },
   {
    "duration": 153,
    "start_time": "2024-05-14T16:38:15.647Z"
   },
   {
    "duration": 8,
    "start_time": "2024-05-14T16:38:15.801Z"
   },
   {
    "duration": 31,
    "start_time": "2024-05-14T16:38:15.812Z"
   },
   {
    "duration": 417,
    "start_time": "2024-05-14T16:38:15.844Z"
   },
   {
    "duration": 307,
    "start_time": "2024-05-14T16:38:16.264Z"
   },
   {
    "duration": 446,
    "start_time": "2024-05-14T16:38:16.579Z"
   },
   {
    "duration": 619,
    "start_time": "2024-05-14T16:38:17.027Z"
   },
   {
    "duration": 491,
    "start_time": "2024-05-14T16:38:17.648Z"
   },
   {
    "duration": 198,
    "start_time": "2024-05-14T16:38:18.140Z"
   },
   {
    "duration": 184,
    "start_time": "2024-05-14T16:38:18.340Z"
   },
   {
    "duration": 6,
    "start_time": "2024-05-14T16:38:18.527Z"
   },
   {
    "duration": 415,
    "start_time": "2024-05-14T16:38:18.535Z"
   },
   {
    "duration": 202,
    "start_time": "2024-05-14T16:38:18.953Z"
   },
   {
    "duration": 205,
    "start_time": "2024-05-14T16:38:19.157Z"
   },
   {
    "duration": 5,
    "start_time": "2024-05-14T16:38:19.363Z"
   },
   {
    "duration": 246,
    "start_time": "2024-05-14T16:38:19.381Z"
   },
   {
    "duration": 166,
    "start_time": "2024-05-14T16:38:19.629Z"
   },
   {
    "duration": 6,
    "start_time": "2024-05-14T16:38:19.797Z"
   },
   {
    "duration": 12,
    "start_time": "2024-05-14T16:38:19.805Z"
   },
   {
    "duration": 32,
    "start_time": "2024-05-14T16:38:19.819Z"
   },
   {
    "duration": 9,
    "start_time": "2024-05-14T16:38:19.853Z"
   },
   {
    "duration": 30,
    "start_time": "2024-05-14T16:38:19.863Z"
   },
   {
    "duration": 11,
    "start_time": "2024-05-14T16:38:19.894Z"
   },
   {
    "duration": 28,
    "start_time": "2024-05-14T16:38:19.906Z"
   },
   {
    "duration": 10,
    "start_time": "2024-05-14T16:38:19.936Z"
   },
   {
    "duration": 395,
    "start_time": "2024-05-14T17:02:22.208Z"
   },
   {
    "duration": 424,
    "start_time": "2024-05-14T17:02:31.516Z"
   },
   {
    "duration": 436,
    "start_time": "2024-05-14T17:03:05.567Z"
   },
   {
    "duration": 117,
    "start_time": "2024-05-14T17:05:56.462Z"
   },
   {
    "duration": 7,
    "start_time": "2024-05-14T17:06:00.359Z"
   },
   {
    "duration": 15,
    "start_time": "2024-05-14T17:06:11.880Z"
   },
   {
    "duration": 7,
    "start_time": "2024-05-14T17:06:19.728Z"
   },
   {
    "duration": 6,
    "start_time": "2024-05-14T17:06:47.511Z"
   },
   {
    "duration": 4,
    "start_time": "2024-05-14T17:07:02.175Z"
   },
   {
    "duration": 5,
    "start_time": "2024-05-14T17:07:12.331Z"
   },
   {
    "duration": 4,
    "start_time": "2024-05-14T17:07:33.692Z"
   },
   {
    "duration": 13,
    "start_time": "2024-05-14T17:18:20.350Z"
   },
   {
    "duration": 6,
    "start_time": "2024-05-14T17:18:27.993Z"
   },
   {
    "duration": 6,
    "start_time": "2024-05-14T17:18:53.861Z"
   },
   {
    "duration": 8,
    "start_time": "2024-05-14T17:19:53.525Z"
   },
   {
    "duration": 7,
    "start_time": "2024-05-14T17:20:48.670Z"
   },
   {
    "duration": 74,
    "start_time": "2024-05-14T17:21:06.332Z"
   },
   {
    "duration": 8,
    "start_time": "2024-05-14T17:21:15.218Z"
   },
   {
    "duration": 12,
    "start_time": "2024-05-14T17:24:18.117Z"
   },
   {
    "duration": 15,
    "start_time": "2024-05-14T17:24:22.046Z"
   },
   {
    "duration": 5,
    "start_time": "2024-05-14T17:24:49.934Z"
   },
   {
    "duration": 4,
    "start_time": "2024-05-14T17:24:58.248Z"
   },
   {
    "duration": 11,
    "start_time": "2024-05-14T17:25:07.774Z"
   },
   {
    "duration": 7,
    "start_time": "2024-05-14T17:25:17.554Z"
   },
   {
    "duration": 7,
    "start_time": "2024-05-14T17:26:27.048Z"
   },
   {
    "duration": 1100,
    "start_time": "2024-05-14T17:26:36.369Z"
   },
   {
    "duration": 57,
    "start_time": "2024-05-14T17:26:52.863Z"
   },
   {
    "duration": 8,
    "start_time": "2024-05-14T17:27:13.092Z"
   },
   {
    "duration": 4,
    "start_time": "2024-05-14T18:31:38.960Z"
   },
   {
    "duration": 4,
    "start_time": "2024-05-14T18:38:09.356Z"
   },
   {
    "duration": 1132,
    "start_time": "2024-05-14T18:39:34.639Z"
   },
   {
    "duration": 4,
    "start_time": "2024-05-14T18:39:35.773Z"
   },
   {
    "duration": 77,
    "start_time": "2024-05-14T18:39:35.778Z"
   },
   {
    "duration": 5,
    "start_time": "2024-05-14T18:39:35.856Z"
   },
   {
    "duration": 57,
    "start_time": "2024-05-14T18:39:35.862Z"
   },
   {
    "duration": 70,
    "start_time": "2024-05-14T18:39:35.920Z"
   },
   {
    "duration": 3,
    "start_time": "2024-05-14T18:39:35.992Z"
   },
   {
    "duration": 32,
    "start_time": "2024-05-14T18:39:35.996Z"
   },
   {
    "duration": 4,
    "start_time": "2024-05-14T18:39:36.029Z"
   },
   {
    "duration": 19,
    "start_time": "2024-05-14T18:39:36.035Z"
   },
   {
    "duration": 24,
    "start_time": "2024-05-14T18:39:36.079Z"
   },
   {
    "duration": 28,
    "start_time": "2024-05-14T18:39:36.105Z"
   },
   {
    "duration": 22,
    "start_time": "2024-05-14T18:39:36.135Z"
   },
   {
    "duration": 13,
    "start_time": "2024-05-14T18:39:36.161Z"
   },
   {
    "duration": 180,
    "start_time": "2024-05-14T18:39:36.176Z"
   },
   {
    "duration": 135,
    "start_time": "2024-05-14T18:39:36.358Z"
   },
   {
    "duration": 21,
    "start_time": "2024-05-14T18:39:36.494Z"
   },
   {
    "duration": 13,
    "start_time": "2024-05-14T18:39:36.517Z"
   },
   {
    "duration": 368,
    "start_time": "2024-05-14T18:39:36.532Z"
   },
   {
    "duration": 282,
    "start_time": "2024-05-14T18:39:36.902Z"
   },
   {
    "duration": 394,
    "start_time": "2024-05-14T18:39:37.186Z"
   },
   {
    "duration": 585,
    "start_time": "2024-05-14T18:39:37.582Z"
   },
   {
    "duration": 402,
    "start_time": "2024-05-14T18:39:38.169Z"
   },
   {
    "duration": 189,
    "start_time": "2024-05-14T18:39:38.572Z"
   },
   {
    "duration": 160,
    "start_time": "2024-05-14T18:39:38.763Z"
   },
   {
    "duration": 4,
    "start_time": "2024-05-14T18:39:38.925Z"
   },
   {
    "duration": 289,
    "start_time": "2024-05-14T18:39:38.931Z"
   },
   {
    "duration": 180,
    "start_time": "2024-05-14T18:39:39.221Z"
   },
   {
    "duration": 188,
    "start_time": "2024-05-14T18:39:39.402Z"
   },
   {
    "duration": 4,
    "start_time": "2024-05-14T18:39:39.592Z"
   },
   {
    "duration": 228,
    "start_time": "2024-05-14T18:39:39.597Z"
   },
   {
    "duration": 129,
    "start_time": "2024-05-14T18:39:39.826Z"
   },
   {
    "duration": 6,
    "start_time": "2024-05-14T18:39:39.957Z"
   },
   {
    "duration": 15,
    "start_time": "2024-05-14T18:39:39.964Z"
   },
   {
    "duration": 39,
    "start_time": "2024-05-14T18:39:39.981Z"
   },
   {
    "duration": 8,
    "start_time": "2024-05-14T18:39:40.022Z"
   },
   {
    "duration": 25,
    "start_time": "2024-05-14T18:39:40.032Z"
   },
   {
    "duration": 9,
    "start_time": "2024-05-14T18:39:40.059Z"
   },
   {
    "duration": 24,
    "start_time": "2024-05-14T18:39:40.069Z"
   },
   {
    "duration": 9,
    "start_time": "2024-05-14T18:39:40.094Z"
   },
   {
    "duration": 46,
    "start_time": "2024-05-14T18:40:17.949Z"
   },
   {
    "duration": 39,
    "start_time": "2024-05-14T18:40:20.697Z"
   },
   {
    "duration": 29,
    "start_time": "2024-05-14T18:40:23.655Z"
   },
   {
    "duration": 1188,
    "start_time": "2024-07-28T12:25:07.705Z"
   },
   {
    "duration": 4,
    "start_time": "2024-07-28T12:25:08.895Z"
   },
   {
    "duration": 264,
    "start_time": "2024-07-28T12:25:08.901Z"
   },
   {
    "duration": 6,
    "start_time": "2024-07-28T12:25:09.167Z"
   },
   {
    "duration": 68,
    "start_time": "2024-07-28T12:25:09.175Z"
   },
   {
    "duration": 64,
    "start_time": "2024-07-28T12:25:09.245Z"
   },
   {
    "duration": 3,
    "start_time": "2024-07-28T12:25:09.311Z"
   },
   {
    "duration": 31,
    "start_time": "2024-07-28T12:25:09.315Z"
   },
   {
    "duration": 4,
    "start_time": "2024-07-28T12:25:09.347Z"
   },
   {
    "duration": 22,
    "start_time": "2024-07-28T12:25:09.385Z"
   },
   {
    "duration": 5,
    "start_time": "2024-07-28T12:25:09.409Z"
   },
   {
    "duration": 5,
    "start_time": "2024-07-28T12:25:09.416Z"
   },
   {
    "duration": 15,
    "start_time": "2024-07-28T12:25:09.422Z"
   },
   {
    "duration": 9,
    "start_time": "2024-07-28T12:25:09.438Z"
   },
   {
    "duration": 179,
    "start_time": "2024-07-28T12:25:09.449Z"
   },
   {
    "duration": 126,
    "start_time": "2024-07-28T12:25:09.630Z"
   },
   {
    "duration": 6,
    "start_time": "2024-07-28T12:25:09.757Z"
   },
   {
    "duration": 33,
    "start_time": "2024-07-28T12:25:09.765Z"
   },
   {
    "duration": 343,
    "start_time": "2024-07-28T12:25:09.799Z"
   },
   {
    "duration": 266,
    "start_time": "2024-07-28T12:25:10.144Z"
   },
   {
    "duration": 350,
    "start_time": "2024-07-28T12:25:10.412Z"
   },
   {
    "duration": 552,
    "start_time": "2024-07-28T12:25:10.764Z"
   },
   {
    "duration": 361,
    "start_time": "2024-07-28T12:25:11.317Z"
   },
   {
    "duration": 165,
    "start_time": "2024-07-28T12:25:11.679Z"
   },
   {
    "duration": 150,
    "start_time": "2024-07-28T12:25:11.846Z"
   },
   {
    "duration": 6,
    "start_time": "2024-07-28T12:25:11.998Z"
   },
   {
    "duration": 275,
    "start_time": "2024-07-28T12:25:12.006Z"
   },
   {
    "duration": 165,
    "start_time": "2024-07-28T12:25:12.286Z"
   },
   {
    "duration": 181,
    "start_time": "2024-07-28T12:25:12.453Z"
   },
   {
    "duration": 3,
    "start_time": "2024-07-28T12:25:12.636Z"
   },
   {
    "duration": 218,
    "start_time": "2024-07-28T12:25:12.641Z"
   },
   {
    "duration": 144,
    "start_time": "2024-07-28T12:25:12.861Z"
   },
   {
    "duration": 6,
    "start_time": "2024-07-28T12:25:13.006Z"
   },
   {
    "duration": 5,
    "start_time": "2024-07-28T12:25:13.014Z"
   },
   {
    "duration": 24,
    "start_time": "2024-07-28T12:25:13.020Z"
   },
   {
    "duration": 8,
    "start_time": "2024-07-28T12:25:13.045Z"
   },
   {
    "duration": 41,
    "start_time": "2024-07-28T12:25:13.054Z"
   },
   {
    "duration": 15,
    "start_time": "2024-07-28T12:25:13.097Z"
   },
   {
    "duration": 23,
    "start_time": "2024-07-28T12:25:13.114Z"
   },
   {
    "duration": 9,
    "start_time": "2024-07-28T12:25:13.138Z"
   }
  ],
  "kernelspec": {
   "display_name": "Python 3 (ipykernel)",
   "language": "python",
   "name": "python3"
  },
  "language_info": {
   "codemirror_mode": {
    "name": "ipython",
    "version": 3
   },
   "file_extension": ".py",
   "mimetype": "text/x-python",
   "name": "python",
   "nbconvert_exporter": "python",
   "pygments_lexer": "ipython3",
   "version": "3.9.5"
  },
  "toc": {
   "base_numbering": 1,
   "nav_menu": {
    "height": "290.533px",
    "width": "478.133px"
   },
   "number_sections": true,
   "sideBar": true,
   "skip_h1_title": true,
   "title_cell": "Table of Contents",
   "title_sidebar": "Contents",
   "toc_cell": false,
   "toc_position": {},
   "toc_section_display": true,
   "toc_window_display": false
  }
 },
 "nbformat": 4,
 "nbformat_minor": 2
}
